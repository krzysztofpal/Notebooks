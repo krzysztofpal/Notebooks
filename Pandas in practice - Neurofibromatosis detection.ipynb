{
 "cells": [
  {
   "cell_type": "code",
   "execution_count": 111,
   "metadata": {},
   "outputs": [],
   "source": [
    "%config IPCompleter.greedy=True"
   ]
  },
  {
   "cell_type": "code",
   "execution_count": 363,
   "metadata": {},
   "outputs": [],
   "source": [
    "import numpy as np\n",
    "from sklearn.svm import SVC\n",
    "from sklearn.ensemble import RandomForestClassifier\n",
    "from sklearn.metrics import f1_score, accuracy_score\n",
    "from scipy.special import softmax\n",
    "import pandas as pd\n",
    "import matplotlib.pyplot as plt\n",
    "import os\n",
    "import xgboost\n",
    "import optuna"
   ]
  },
  {
   "cell_type": "markdown",
   "metadata": {},
   "source": [
    "# Pandas in practice - Neurofirbromatosis detection\n",
    "\n",
    "Welcome to the lecture about practical use cases of Pandas library! In this notebook Pandas library was used for ETA and data formatting in real-life research project: usage of Artificial Intelligence for Neurofibromatosis diagnosis based on human genome. Our goal is to develop artificial intelligence system able to classify sick people among healthy ones by interpreting their genetic code. Let's get started!"
   ]
  },
  {
   "cell_type": "markdown",
   "metadata": {},
   "source": [
    "## Contents of this notebook\n",
    "\n",
    "- Pandas: EDA (*Exploratory Data Analysis*)\n",
    "- Pandas: Data I/O, preprocessing and formatting\n",
    "- Sklearn: Neurofibromatosis detection\n",
    "- Oputna: automatic hyperparameters tuning"
   ]
  },
  {
   "cell_type": "markdown",
   "metadata": {},
   "source": [
    "## Libraries required:\n",
    "\n",
    "- pandas\n",
    "- numpy\n",
    "- sklearn\n",
    "- matplotlib"
   ]
  },
  {
   "cell_type": "markdown",
   "metadata": {},
   "source": [
    "## Test data creation\n",
    "\n",
    "Unfortunately, this notebook cannot use original, real data because of protection of sensitive informations and copyrights. So, script below generates dummy csv files which resemble true data. This operation can be skipped"
   ]
  },
  {
   "cell_type": "code",
   "execution_count": 113,
   "metadata": {},
   "outputs": [],
   "source": [
    "def get_avaliable_genes(number_of_possibilities: int = 1500):\n",
    "    chromosomes = [\"chr\" + str(i) for i in range(1, 23)]\n",
    "    chromosomes.extend([\"chrX\", \"chrY\"])\n",
    "\n",
    "    positions = list(range(1,2000))\n",
    "\n",
    "    mutations = []\n",
    "    nucleotydes = [\"A\", \"C\", \"T\", \"G\"]\n",
    "    for i in nucleotydes:\n",
    "        for j in nucleotydes:\n",
    "            mutations.append(f\"{i}/{j}\")\n",
    "\n",
    "    chromosomes = pd.Series(chromosomes)\n",
    "    positions = pd.Series(positions)\n",
    "    mutations = pd.Series(mutations)    \n",
    "\n",
    "\n",
    "\n",
    "    chromosome_choices = np.random.randint(low=0, high=chromosomes.shape, size=number_of_possibilities)\n",
    "    picked_chromosomes = pd.Series(data=chromosomes.iloc[chromosome_choices])\n",
    "    picked_chromosomes.index = list(range(picked_chromosomes.shape[0]))\n",
    "\n",
    "    position_choices = np.random.randint(low=0, high=positions.shape, size=number_of_possibilities)\n",
    "    picked_positions = positions.iloc[position_choices]\n",
    "    picked_positions.index = list(range(picked_positions.shape[0]))\n",
    "\n",
    "    mutation_choices = np.random.randint(low=0, high=mutations.shape, size=number_of_possibilities)\n",
    "    picked_mutations = mutations.iloc[mutation_choices]\n",
    "    picked_mutations.index = list(range(picked_mutations.shape[0]))\n",
    "\n",
    "    options = {\n",
    "        \"chromosome\": picked_chromosomes,\n",
    "        \"position\": picked_positions,\n",
    "        \"mutation\": picked_mutations\n",
    "    }\n",
    "\n",
    "    avaliable_options = pd.DataFrame(options)\n",
    "    return avaliable_options\n",
    "\n",
    "def get_indicies(amount: int, mean: int, std: int, max_value: int):\n",
    "    indicies = np.random.randn(amount) * mean + std\n",
    "    indicies = np.array(indicies, dtype=np.int64)\n",
    "    indicies = indicies[indicies >= 0]\n",
    "    indicies = indicies[indicies < max_value]\n",
    "    return np.unique(indicies)\n",
    "\n",
    "def create_file_frame(is_healthy: bool, avaliable_options: pd.DataFrame):\n",
    "    amount = 1000\n",
    "    mean = int(avaliable_options.shape[0] * 0.5) - 100 if is_healthy else int(avaliable_options.shape[0] * 0.5) + 100\n",
    "    std = 300 if is_healthy else 600\n",
    "    indicies = get_indicies(amount, mean, std, avaliable_options.shape[0])\n",
    "    frame = avaliable_options.iloc[indicies]\n",
    "    frame.index = list(range(frame.shape[0]))\n",
    "    \n",
    "    chr_name = \"chr\" if is_healthy else \"CHROMOSOME\"\n",
    "    pos_name = \"pos\" if is_healthy else \"POSITION\"\n",
    "    mut_name = \"mut\" if is_healthy else \"MUTATION\"\n",
    "    \n",
    "    frame = frame.rename(columns={\"chromosome\": chr_name, \"position\": \"pos\", \"mutation\": \"mut\"})\n",
    "    \n",
    "    if is_healthy:\n",
    "        frame[\"num_pl_a\"] = np.nan\n",
    "    else:\n",
    "        frame[\"is_ok\"] = True\n",
    "        frame[\"approved_ratio\"] = 0.9 \n",
    "    \n",
    "    return frame\n",
    "\n",
    "def create_files(number_of_possibilities: int, healthy: int, sick: int, healthy_folder_path: str, sick_folder_path: str):\n",
    "    options = get_avaliable_genes()\n",
    "    for i in range(healthy):\n",
    "        frame = create_file_frame(True, options)\n",
    "        frame.to_csv(os.path.join(healthy_folder_path, f\"{i}.csv\"))\n",
    "    for i in range(sick):\n",
    "        frame = create_file_frame(False, options)\n",
    "        frame.to_csv(os.path.join(sick_folder_path, f\"{i}.csv\"))"
   ]
  },
  {
   "cell_type": "code",
   "execution_count": 107,
   "metadata": {},
   "outputs": [],
   "source": [
    "create_files(1500, 60, 42, \"healthy\", \"sick\")"
   ]
  },
  {
   "cell_type": "markdown",
   "metadata": {},
   "source": [
    "# 1. Exploratory Data Analysis (*EDA*)\n",
    "\n",
    "In this segment we will perform data checks to figure out what type of data we got"
   ]
  },
  {
   "cell_type": "code",
   "execution_count": 114,
   "metadata": {},
   "outputs": [],
   "source": [
    "path_to_healthy = \"healthy\"\n",
    "path_to_sick = \"sick\""
   ]
  },
  {
   "cell_type": "markdown",
   "metadata": {},
   "source": [
    "## Load files\n",
    "\n",
    "First, we will load csv files representing people suffering from Neurofirbomatosis disease and healthy ones. We will pandas method `read_csv` to create person's dataframe from file. Pandas is able to read alot of different file types, but for the sake of this example we will use csv files."
   ]
  },
  {
   "cell_type": "code",
   "execution_count": 116,
   "metadata": {},
   "outputs": [],
   "source": [
    "healthy_people_file_paths = [os.path.join(path_to_healthy, f) for f in os.listdir(path_to_healthy)]\n",
    "sick_people_file_paths = [os.path.join(path_to_sick,f) for f in os.listdir(path_to_sick)]\n",
    "\n",
    "df_healthy = [pd.read_csv(f) for f in healthy_people_file_paths]\n",
    "df_sick = [pd.read_csv(f) for f in sick_people_file_paths]"
   ]
  },
  {
   "cell_type": "markdown",
   "metadata": {},
   "source": [
    "## Check number of files\n",
    "\n",
    "Are your classes (healthy, sick) evenly ballanced? It is important to know, because classifiers need to be specially tuned in case of class inbalance. It is a simple check, but it is very effective!"
   ]
  },
  {
   "cell_type": "code",
   "execution_count": 207,
   "metadata": {},
   "outputs": [
    {
     "name": "stdout",
     "output_type": "stream",
     "text": [
      "Number of healthy people: 60\n",
      "Number of sick people: 42\n"
     ]
    }
   ],
   "source": [
    "print(f\"Number of healthy people: {len(df_healthy)}\")\n",
    "print(f\"Number of sick people: {len(df_sick)}\")"
   ]
  },
  {
   "cell_type": "markdown",
   "metadata": {},
   "source": [
    "Turns out that sick people consist only 41% of the dataset. It is not a drastic class inbalance and classifiers should handle it without additional tuning. Nonetheless, it is important to be aware of it!"
   ]
  },
  {
   "cell_type": "markdown",
   "metadata": {},
   "source": [
    "## Quick peek into the dataframes\n",
    "\n",
    "We will use two methods: `head` and `tail`. `head` method shows first 5 rows of the dataframe when `tail` shows last 5 rows (methods can be provided with number of rows to be selected). This peek will allow us to quickly build an intuition about data we work with. "
   ]
  },
  {
   "cell_type": "code",
   "execution_count": 208,
   "metadata": {},
   "outputs": [
    {
     "data": {
      "text/html": [
       "<div>\n",
       "<style scoped>\n",
       "    .dataframe tbody tr th:only-of-type {\n",
       "        vertical-align: middle;\n",
       "    }\n",
       "\n",
       "    .dataframe tbody tr th {\n",
       "        vertical-align: top;\n",
       "    }\n",
       "\n",
       "    .dataframe thead th {\n",
       "        text-align: right;\n",
       "    }\n",
       "</style>\n",
       "<table border=\"1\" class=\"dataframe\">\n",
       "  <thead>\n",
       "    <tr style=\"text-align: right;\">\n",
       "      <th></th>\n",
       "      <th>Unnamed: 0</th>\n",
       "      <th>chr</th>\n",
       "      <th>pos</th>\n",
       "      <th>mut</th>\n",
       "      <th>num_pl_a</th>\n",
       "    </tr>\n",
       "  </thead>\n",
       "  <tbody>\n",
       "    <tr>\n",
       "      <th>0</th>\n",
       "      <td>0</td>\n",
       "      <td>chr19</td>\n",
       "      <td>29</td>\n",
       "      <td>A/A</td>\n",
       "      <td>NaN</td>\n",
       "    </tr>\n",
       "    <tr>\n",
       "      <th>1</th>\n",
       "      <td>1</td>\n",
       "      <td>chr15</td>\n",
       "      <td>1760</td>\n",
       "      <td>T/G</td>\n",
       "      <td>NaN</td>\n",
       "    </tr>\n",
       "    <tr>\n",
       "      <th>2</th>\n",
       "      <td>2</td>\n",
       "      <td>chr14</td>\n",
       "      <td>1032</td>\n",
       "      <td>C/T</td>\n",
       "      <td>NaN</td>\n",
       "    </tr>\n",
       "    <tr>\n",
       "      <th>3</th>\n",
       "      <td>3</td>\n",
       "      <td>chr10</td>\n",
       "      <td>1253</td>\n",
       "      <td>T/C</td>\n",
       "      <td>NaN</td>\n",
       "    </tr>\n",
       "    <tr>\n",
       "      <th>4</th>\n",
       "      <td>4</td>\n",
       "      <td>chr11</td>\n",
       "      <td>1748</td>\n",
       "      <td>C/A</td>\n",
       "      <td>NaN</td>\n",
       "    </tr>\n",
       "  </tbody>\n",
       "</table>\n",
       "</div>"
      ],
      "text/plain": [
       "   Unnamed: 0    chr   pos  mut  num_pl_a\n",
       "0           0  chr19    29  A/A       NaN\n",
       "1           1  chr15  1760  T/G       NaN\n",
       "2           2  chr14  1032  C/T       NaN\n",
       "3           3  chr10  1253  T/C       NaN\n",
       "4           4  chr11  1748  C/A       NaN"
      ]
     },
     "execution_count": 208,
     "metadata": {},
     "output_type": "execute_result"
    }
   ],
   "source": [
    "df_healthy[0].head()"
   ]
  },
  {
   "cell_type": "code",
   "execution_count": 209,
   "metadata": {},
   "outputs": [
    {
     "data": {
      "text/html": [
       "<div>\n",
       "<style scoped>\n",
       "    .dataframe tbody tr th:only-of-type {\n",
       "        vertical-align: middle;\n",
       "    }\n",
       "\n",
       "    .dataframe tbody tr th {\n",
       "        vertical-align: top;\n",
       "    }\n",
       "\n",
       "    .dataframe thead th {\n",
       "        text-align: right;\n",
       "    }\n",
       "</style>\n",
       "<table border=\"1\" class=\"dataframe\">\n",
       "  <thead>\n",
       "    <tr style=\"text-align: right;\">\n",
       "      <th></th>\n",
       "      <th>Unnamed: 0</th>\n",
       "      <th>CHROMOSOME</th>\n",
       "      <th>pos</th>\n",
       "      <th>mut</th>\n",
       "      <th>is_ok</th>\n",
       "      <th>approved_ratio</th>\n",
       "    </tr>\n",
       "  </thead>\n",
       "  <tbody>\n",
       "    <tr>\n",
       "      <th>477</th>\n",
       "      <td>477</td>\n",
       "      <td>chr22</td>\n",
       "      <td>1419</td>\n",
       "      <td>T/A</td>\n",
       "      <td>True</td>\n",
       "      <td>0.9</td>\n",
       "    </tr>\n",
       "    <tr>\n",
       "      <th>478</th>\n",
       "      <td>478</td>\n",
       "      <td>chr6</td>\n",
       "      <td>1612</td>\n",
       "      <td>A/A</td>\n",
       "      <td>True</td>\n",
       "      <td>0.9</td>\n",
       "    </tr>\n",
       "    <tr>\n",
       "      <th>479</th>\n",
       "      <td>479</td>\n",
       "      <td>chr11</td>\n",
       "      <td>1987</td>\n",
       "      <td>T/T</td>\n",
       "      <td>True</td>\n",
       "      <td>0.9</td>\n",
       "    </tr>\n",
       "    <tr>\n",
       "      <th>480</th>\n",
       "      <td>480</td>\n",
       "      <td>chr15</td>\n",
       "      <td>68</td>\n",
       "      <td>G/G</td>\n",
       "      <td>True</td>\n",
       "      <td>0.9</td>\n",
       "    </tr>\n",
       "    <tr>\n",
       "      <th>481</th>\n",
       "      <td>481</td>\n",
       "      <td>chrX</td>\n",
       "      <td>364</td>\n",
       "      <td>C/C</td>\n",
       "      <td>True</td>\n",
       "      <td>0.9</td>\n",
       "    </tr>\n",
       "  </tbody>\n",
       "</table>\n",
       "</div>"
      ],
      "text/plain": [
       "     Unnamed: 0 CHROMOSOME   pos  mut  is_ok  approved_ratio\n",
       "477         477      chr22  1419  T/A   True             0.9\n",
       "478         478       chr6  1612  A/A   True             0.9\n",
       "479         479      chr11  1987  T/T   True             0.9\n",
       "480         480      chr15    68  G/G   True             0.9\n",
       "481         481       chrX   364  C/C   True             0.9"
      ]
     },
     "execution_count": 209,
     "metadata": {},
     "output_type": "execute_result"
    }
   ],
   "source": [
    "df_sick[0].tail()"
   ]
  },
  {
   "cell_type": "markdown",
   "metadata": {},
   "source": [
    "Something interesting! It seems that healthy and sick persons csv files contains different columns! Let's take a look on it in more focused manner."
   ]
  },
  {
   "cell_type": "markdown",
   "metadata": {},
   "source": [
    "## Check columns\n",
    "\n",
    "First, let's check what columns are in every file and group. To do this we will use dataframe fields `columns` and `dtypes`. Also, we will use `groupby` function to get unique columns and `describe` to summarize results of our operations."
   ]
  },
  {
   "cell_type": "code",
   "execution_count": 210,
   "metadata": {},
   "outputs": [],
   "source": [
    "def check_column_types(df_list: list) -> pd.DataFrame:\n",
    "    d = {\n",
    "        \"column\": [],\n",
    "        \"type\":[]\n",
    "    }\n",
    "    for df in df_list:\n",
    "        for i in range(len(df.columns)):\n",
    "            d[\"column\"].append(df.columns[i])\n",
    "            d[\"type\"].append(df.dtypes[i])\n",
    "    \n",
    "    df = pd.DataFrame(d)\n",
    "    df = df.groupby(\"column\")\n",
    "    return df"
   ]
  },
  {
   "cell_type": "code",
   "execution_count": 211,
   "metadata": {},
   "outputs": [
    {
     "data": {
      "text/html": [
       "<div>\n",
       "<style scoped>\n",
       "    .dataframe tbody tr th:only-of-type {\n",
       "        vertical-align: middle;\n",
       "    }\n",
       "\n",
       "    .dataframe tbody tr th {\n",
       "        vertical-align: top;\n",
       "    }\n",
       "\n",
       "    .dataframe thead tr th {\n",
       "        text-align: left;\n",
       "    }\n",
       "\n",
       "    .dataframe thead tr:last-of-type th {\n",
       "        text-align: right;\n",
       "    }\n",
       "</style>\n",
       "<table border=\"1\" class=\"dataframe\">\n",
       "  <thead>\n",
       "    <tr>\n",
       "      <th></th>\n",
       "      <th colspan=\"4\" halign=\"left\">type</th>\n",
       "    </tr>\n",
       "    <tr>\n",
       "      <th></th>\n",
       "      <th>count</th>\n",
       "      <th>unique</th>\n",
       "      <th>top</th>\n",
       "      <th>freq</th>\n",
       "    </tr>\n",
       "    <tr>\n",
       "      <th>column</th>\n",
       "      <th></th>\n",
       "      <th></th>\n",
       "      <th></th>\n",
       "      <th></th>\n",
       "    </tr>\n",
       "  </thead>\n",
       "  <tbody>\n",
       "    <tr>\n",
       "      <th>Unnamed: 0</th>\n",
       "      <td>60</td>\n",
       "      <td>1</td>\n",
       "      <td>int64</td>\n",
       "      <td>60</td>\n",
       "    </tr>\n",
       "    <tr>\n",
       "      <th>chr</th>\n",
       "      <td>60</td>\n",
       "      <td>1</td>\n",
       "      <td>object</td>\n",
       "      <td>60</td>\n",
       "    </tr>\n",
       "    <tr>\n",
       "      <th>mut</th>\n",
       "      <td>60</td>\n",
       "      <td>1</td>\n",
       "      <td>object</td>\n",
       "      <td>60</td>\n",
       "    </tr>\n",
       "    <tr>\n",
       "      <th>num_pl_a</th>\n",
       "      <td>60</td>\n",
       "      <td>1</td>\n",
       "      <td>float64</td>\n",
       "      <td>60</td>\n",
       "    </tr>\n",
       "    <tr>\n",
       "      <th>pos</th>\n",
       "      <td>60</td>\n",
       "      <td>1</td>\n",
       "      <td>int64</td>\n",
       "      <td>60</td>\n",
       "    </tr>\n",
       "  </tbody>\n",
       "</table>\n",
       "</div>"
      ],
      "text/plain": [
       "            type                     \n",
       "           count unique      top freq\n",
       "column                               \n",
       "Unnamed: 0    60      1    int64   60\n",
       "chr           60      1   object   60\n",
       "mut           60      1   object   60\n",
       "num_pl_a      60      1  float64   60\n",
       "pos           60      1    int64   60"
      ]
     },
     "execution_count": 211,
     "metadata": {},
     "output_type": "execute_result"
    }
   ],
   "source": [
    "healthy_person_columns = check_column_types(df_healthy)\n",
    "healthy_person_columns.describe()"
   ]
  },
  {
   "cell_type": "code",
   "execution_count": 212,
   "metadata": {},
   "outputs": [
    {
     "data": {
      "text/html": [
       "<div>\n",
       "<style scoped>\n",
       "    .dataframe tbody tr th:only-of-type {\n",
       "        vertical-align: middle;\n",
       "    }\n",
       "\n",
       "    .dataframe tbody tr th {\n",
       "        vertical-align: top;\n",
       "    }\n",
       "\n",
       "    .dataframe thead tr th {\n",
       "        text-align: left;\n",
       "    }\n",
       "\n",
       "    .dataframe thead tr:last-of-type th {\n",
       "        text-align: right;\n",
       "    }\n",
       "</style>\n",
       "<table border=\"1\" class=\"dataframe\">\n",
       "  <thead>\n",
       "    <tr>\n",
       "      <th></th>\n",
       "      <th colspan=\"4\" halign=\"left\">type</th>\n",
       "    </tr>\n",
       "    <tr>\n",
       "      <th></th>\n",
       "      <th>count</th>\n",
       "      <th>unique</th>\n",
       "      <th>top</th>\n",
       "      <th>freq</th>\n",
       "    </tr>\n",
       "    <tr>\n",
       "      <th>column</th>\n",
       "      <th></th>\n",
       "      <th></th>\n",
       "      <th></th>\n",
       "      <th></th>\n",
       "    </tr>\n",
       "  </thead>\n",
       "  <tbody>\n",
       "    <tr>\n",
       "      <th>CHROMOSOME</th>\n",
       "      <td>42</td>\n",
       "      <td>1</td>\n",
       "      <td>object</td>\n",
       "      <td>42</td>\n",
       "    </tr>\n",
       "    <tr>\n",
       "      <th>Unnamed: 0</th>\n",
       "      <td>42</td>\n",
       "      <td>1</td>\n",
       "      <td>int64</td>\n",
       "      <td>42</td>\n",
       "    </tr>\n",
       "    <tr>\n",
       "      <th>approved_ratio</th>\n",
       "      <td>42</td>\n",
       "      <td>1</td>\n",
       "      <td>float64</td>\n",
       "      <td>42</td>\n",
       "    </tr>\n",
       "    <tr>\n",
       "      <th>is_ok</th>\n",
       "      <td>42</td>\n",
       "      <td>1</td>\n",
       "      <td>bool</td>\n",
       "      <td>42</td>\n",
       "    </tr>\n",
       "    <tr>\n",
       "      <th>mut</th>\n",
       "      <td>42</td>\n",
       "      <td>1</td>\n",
       "      <td>object</td>\n",
       "      <td>42</td>\n",
       "    </tr>\n",
       "    <tr>\n",
       "      <th>pos</th>\n",
       "      <td>42</td>\n",
       "      <td>1</td>\n",
       "      <td>int64</td>\n",
       "      <td>42</td>\n",
       "    </tr>\n",
       "  </tbody>\n",
       "</table>\n",
       "</div>"
      ],
      "text/plain": [
       "                type                     \n",
       "               count unique      top freq\n",
       "column                                   \n",
       "CHROMOSOME        42      1   object   42\n",
       "Unnamed: 0        42      1    int64   42\n",
       "approved_ratio    42      1  float64   42\n",
       "is_ok             42      1     bool   42\n",
       "mut               42      1   object   42\n",
       "pos               42      1    int64   42"
      ]
     },
     "execution_count": 212,
     "metadata": {},
     "output_type": "execute_result"
    }
   ],
   "source": [
    "sick_person_columns = check_column_types(df_sick)\n",
    "sick_person_columns.describe()"
   ]
  },
  {
   "cell_type": "markdown",
   "metadata": {},
   "source": [
    "Ok, so what do we got?\n",
    "\n",
    "Healthy persons csvs contain classes: \"Unnamed: 0\", \"chr\", \"mut\", \"num_pl_a\", \"pos\" and sick persons csvs contain classes:  \"CHROMOSOME\", \"Unnamed: 0\", \"approve_ratio\", \"is_ok\", \"mut\", \"pos\".\n",
    "\n",
    "It means that these csv files are of different format and we need more details to know how to combine those two groups. We also know, what type of fileds are stored in these columns (strings are considered `object`s in pandas) and that in each column there is only one datatype (columns `count` and `type freq` are equal to eachother)."
   ]
  },
  {
   "cell_type": "markdown",
   "metadata": {},
   "source": [
    "## Time to ask questions to person, who knows context of this data\n",
    "\n",
    "As a Data Scientists, we know how to operate on data, but we often don't know the context behind the data. These csv files has been given to us by scientist in the field of Biology. She knows what each column really means, so it is time to ask her a few questions:\n",
    "\n",
    "- Are columns `chr` and `CHROMOSOME` equivalents of each other?\n",
    "- What columns are essential to encode genetic mutation?"
   ]
  },
  {
   "cell_type": "markdown",
   "metadata": {},
   "source": [
    "### Getting ansers back\n",
    "\n",
    "- Yes, columns `chr` and CHROMOSOME are equivalents of each other\n",
    "- We need 'chr', 'pos' and 'mut'\n",
    "\n",
    "Good. We can proceed then!"
   ]
  },
  {
   "cell_type": "markdown",
   "metadata": {},
   "source": [
    "## Unify the DataFrames: Filter out unnecessary rows\n",
    "\n",
    "The intersection of sets of columns of healthy and sick persons are {'chr' <-> 'CHROMOSOME', 'pos', 'mut'}. It seems like for now no other column is needed, so let's take them.\n",
    "\n",
    "To do that we will use operation: `df[[\"first_column_to_take_name', \"second_column_to_take_name\"...]]`. It allows to take from DataFrame only these columns, that we specify. If we are to take only one column, then resulting object would be type `pd.Series`, but in this example we will use multiple columns, so it will be of type `pd.DataFrame`.\n",
    "\n",
    "Let's filter out!"
   ]
  },
  {
   "cell_type": "code",
   "execution_count": 213,
   "metadata": {},
   "outputs": [],
   "source": [
    "df_healthy_filtered = [df[[\"chr\", \"pos\", \"mut\"]] for df in df_healthy]\n",
    "df_sick_filtered = [df[[\"CHROMOSOME\", \"pos\", \"mut\"]] for df in df_sick]"
   ]
  },
  {
   "cell_type": "markdown",
   "metadata": {},
   "source": [
    "Quick check, if that worked:"
   ]
  },
  {
   "cell_type": "code",
   "execution_count": 214,
   "metadata": {},
   "outputs": [
    {
     "data": {
      "text/html": [
       "<div>\n",
       "<style scoped>\n",
       "    .dataframe tbody tr th:only-of-type {\n",
       "        vertical-align: middle;\n",
       "    }\n",
       "\n",
       "    .dataframe tbody tr th {\n",
       "        vertical-align: top;\n",
       "    }\n",
       "\n",
       "    .dataframe thead th {\n",
       "        text-align: right;\n",
       "    }\n",
       "</style>\n",
       "<table border=\"1\" class=\"dataframe\">\n",
       "  <thead>\n",
       "    <tr style=\"text-align: right;\">\n",
       "      <th></th>\n",
       "      <th>chr</th>\n",
       "      <th>pos</th>\n",
       "      <th>mut</th>\n",
       "    </tr>\n",
       "  </thead>\n",
       "  <tbody>\n",
       "    <tr>\n",
       "      <th>0</th>\n",
       "      <td>chr19</td>\n",
       "      <td>29</td>\n",
       "      <td>A/A</td>\n",
       "    </tr>\n",
       "    <tr>\n",
       "      <th>1</th>\n",
       "      <td>chr15</td>\n",
       "      <td>1760</td>\n",
       "      <td>T/G</td>\n",
       "    </tr>\n",
       "    <tr>\n",
       "      <th>2</th>\n",
       "      <td>chr14</td>\n",
       "      <td>1032</td>\n",
       "      <td>C/T</td>\n",
       "    </tr>\n",
       "    <tr>\n",
       "      <th>3</th>\n",
       "      <td>chr10</td>\n",
       "      <td>1253</td>\n",
       "      <td>T/C</td>\n",
       "    </tr>\n",
       "    <tr>\n",
       "      <th>4</th>\n",
       "      <td>chr11</td>\n",
       "      <td>1748</td>\n",
       "      <td>C/A</td>\n",
       "    </tr>\n",
       "  </tbody>\n",
       "</table>\n",
       "</div>"
      ],
      "text/plain": [
       "     chr   pos  mut\n",
       "0  chr19    29  A/A\n",
       "1  chr15  1760  T/G\n",
       "2  chr14  1032  C/T\n",
       "3  chr10  1253  T/C\n",
       "4  chr11  1748  C/A"
      ]
     },
     "execution_count": 214,
     "metadata": {},
     "output_type": "execute_result"
    }
   ],
   "source": [
    "df_healthy_filtered[0].head()"
   ]
  },
  {
   "cell_type": "code",
   "execution_count": 215,
   "metadata": {},
   "outputs": [
    {
     "data": {
      "text/html": [
       "<div>\n",
       "<style scoped>\n",
       "    .dataframe tbody tr th:only-of-type {\n",
       "        vertical-align: middle;\n",
       "    }\n",
       "\n",
       "    .dataframe tbody tr th {\n",
       "        vertical-align: top;\n",
       "    }\n",
       "\n",
       "    .dataframe thead th {\n",
       "        text-align: right;\n",
       "    }\n",
       "</style>\n",
       "<table border=\"1\" class=\"dataframe\">\n",
       "  <thead>\n",
       "    <tr style=\"text-align: right;\">\n",
       "      <th></th>\n",
       "      <th>CHROMOSOME</th>\n",
       "      <th>pos</th>\n",
       "      <th>mut</th>\n",
       "    </tr>\n",
       "  </thead>\n",
       "  <tbody>\n",
       "    <tr>\n",
       "      <th>0</th>\n",
       "      <td>chr18</td>\n",
       "      <td>1597</td>\n",
       "      <td>G/A</td>\n",
       "    </tr>\n",
       "    <tr>\n",
       "      <th>1</th>\n",
       "      <td>chr19</td>\n",
       "      <td>29</td>\n",
       "      <td>A/A</td>\n",
       "    </tr>\n",
       "    <tr>\n",
       "      <th>2</th>\n",
       "      <td>chr7</td>\n",
       "      <td>1960</td>\n",
       "      <td>G/T</td>\n",
       "    </tr>\n",
       "    <tr>\n",
       "      <th>3</th>\n",
       "      <td>chr13</td>\n",
       "      <td>514</td>\n",
       "      <td>C/A</td>\n",
       "    </tr>\n",
       "    <tr>\n",
       "      <th>4</th>\n",
       "      <td>chr22</td>\n",
       "      <td>1792</td>\n",
       "      <td>G/G</td>\n",
       "    </tr>\n",
       "  </tbody>\n",
       "</table>\n",
       "</div>"
      ],
      "text/plain": [
       "  CHROMOSOME   pos  mut\n",
       "0      chr18  1597  G/A\n",
       "1      chr19    29  A/A\n",
       "2       chr7  1960  G/T\n",
       "3      chr13   514  C/A\n",
       "4      chr22  1792  G/G"
      ]
     },
     "execution_count": 215,
     "metadata": {},
     "output_type": "execute_result"
    }
   ],
   "source": [
    "df_sick_filtered[0].head()"
   ]
  },
  {
   "cell_type": "markdown",
   "metadata": {},
   "source": [
    "## Unify the DataFrames: rename columns\n",
    "\n",
    "There is one column that encodes the same data, yet it has different name in each of sets: \"chr\" in healthy persons group and \"CHROMOSOME\" in sick ones. That is not good! Because of that, we can't merge these dataframes together, perform any complicated operation and we have to constantly remember where each version of column goes. \n",
    "\n",
    "Solution is simple: rename the column in one set.\n",
    "\n",
    "Let's rename \"CHROMOSOME\" in sick person gropu to \"chr\". To do that we will use function `rename`."
   ]
  },
  {
   "cell_type": "code",
   "execution_count": 216,
   "metadata": {},
   "outputs": [],
   "source": [
    "df_sick_filtered = [df.rename(columns={\"CHROMOSOME\": \"chr\"}) for df in df_sick_filtered]"
   ]
  },
  {
   "cell_type": "markdown",
   "metadata": {},
   "source": [
    "Let's see if that worked:"
   ]
  },
  {
   "cell_type": "code",
   "execution_count": 217,
   "metadata": {},
   "outputs": [
    {
     "data": {
      "text/html": [
       "<div>\n",
       "<style scoped>\n",
       "    .dataframe tbody tr th:only-of-type {\n",
       "        vertical-align: middle;\n",
       "    }\n",
       "\n",
       "    .dataframe tbody tr th {\n",
       "        vertical-align: top;\n",
       "    }\n",
       "\n",
       "    .dataframe thead th {\n",
       "        text-align: right;\n",
       "    }\n",
       "</style>\n",
       "<table border=\"1\" class=\"dataframe\">\n",
       "  <thead>\n",
       "    <tr style=\"text-align: right;\">\n",
       "      <th></th>\n",
       "      <th>chr</th>\n",
       "      <th>pos</th>\n",
       "      <th>mut</th>\n",
       "    </tr>\n",
       "  </thead>\n",
       "  <tbody>\n",
       "    <tr>\n",
       "      <th>0</th>\n",
       "      <td>chr18</td>\n",
       "      <td>1597</td>\n",
       "      <td>G/A</td>\n",
       "    </tr>\n",
       "    <tr>\n",
       "      <th>1</th>\n",
       "      <td>chr19</td>\n",
       "      <td>29</td>\n",
       "      <td>A/A</td>\n",
       "    </tr>\n",
       "    <tr>\n",
       "      <th>2</th>\n",
       "      <td>chr7</td>\n",
       "      <td>1960</td>\n",
       "      <td>G/T</td>\n",
       "    </tr>\n",
       "    <tr>\n",
       "      <th>3</th>\n",
       "      <td>chr13</td>\n",
       "      <td>514</td>\n",
       "      <td>C/A</td>\n",
       "    </tr>\n",
       "    <tr>\n",
       "      <th>4</th>\n",
       "      <td>chr22</td>\n",
       "      <td>1792</td>\n",
       "      <td>G/G</td>\n",
       "    </tr>\n",
       "  </tbody>\n",
       "</table>\n",
       "</div>"
      ],
      "text/plain": [
       "     chr   pos  mut\n",
       "0  chr18  1597  G/A\n",
       "1  chr19    29  A/A\n",
       "2   chr7  1960  G/T\n",
       "3  chr13   514  C/A\n",
       "4  chr22  1792  G/G"
      ]
     },
     "execution_count": 217,
     "metadata": {},
     "output_type": "execute_result"
    }
   ],
   "source": [
    "df_sick_filtered[0].head()"
   ]
  },
  {
   "cell_type": "markdown",
   "metadata": {},
   "source": [
    "## Check how much rows are there in each file\n",
    "\n",
    "We know a thing or two regarding files columns, but what about rows count? Let's find out!"
   ]
  },
  {
   "cell_type": "code",
   "execution_count": 218,
   "metadata": {},
   "outputs": [],
   "source": [
    "def get_rows_statistics(dfs: list) -> None:\n",
    "    counts = [df.shape[0] for df in dfs]\n",
    "    counts = np.array(counts)\n",
    "    \n",
    "    return {\n",
    "        \"sum\": counts.sum(),\n",
    "        \"mean\": counts.mean(),\n",
    "        \"min\": counts.min(),\n",
    "        \"max\": counts.max(),\n",
    "        \"std\": counts.std()\n",
    "    }"
   ]
  },
  {
   "cell_type": "code",
   "execution_count": 219,
   "metadata": {},
   "outputs": [
    {
     "data": {
      "text/plain": [
       "{'sum': 30495,\n",
       " 'mean': 508.25,\n",
       " 'min': 481,\n",
       " 'max': 539,\n",
       " 'std': 13.796889746122735}"
      ]
     },
     "execution_count": 219,
     "metadata": {},
     "output_type": "execute_result"
    }
   ],
   "source": [
    "get_rows_statistics(df_healthy_filtered)"
   ]
  },
  {
   "cell_type": "code",
   "execution_count": 220,
   "metadata": {},
   "outputs": [
    {
     "data": {
      "text/plain": [
       "{'sum': 21187,\n",
       " 'mean': 504.45238095238096,\n",
       " 'min': 481,\n",
       " 'max': 532,\n",
       " 'std': 11.613215749539465}"
      ]
     },
     "execution_count": 220,
     "metadata": {},
     "output_type": "execute_result"
    }
   ],
   "source": [
    "get_rows_statistics(df_sick_filtered)"
   ]
  },
  {
   "cell_type": "markdown",
   "metadata": {},
   "source": [
    "## Merge dataframes in one big dataframe\n",
    "\n",
    "Now, when we have uniformed dataframes we want to make some statistics regarding values stored in `chr`, `pos` and `mut` columns. To do it, first we need to merge all these 100 small dataframes in one, big dataframe.\n",
    "\n",
    "To do that we will use function `concat` with parameter `axis` equal to 0. Function `concat` concatenates one dataframe to another. `axis` parameter determines which axes will be concatenated. 0 means \"concatenate rows of the second dataframe below rows of the first dataframe\" when 1 means \"concatenate columns of the second dataframe after columns of the first dataframe\"."
   ]
  },
  {
   "cell_type": "code",
   "execution_count": 221,
   "metadata": {},
   "outputs": [],
   "source": [
    "df_hs = pd.concat([*df_healthy_filtered, *df_sick_filtered], axis=0)"
   ]
  },
  {
   "cell_type": "markdown",
   "metadata": {},
   "source": [
    "Let's see if that worked:"
   ]
  },
  {
   "cell_type": "code",
   "execution_count": 222,
   "metadata": {},
   "outputs": [
    {
     "data": {
      "text/html": [
       "<div>\n",
       "<style scoped>\n",
       "    .dataframe tbody tr th:only-of-type {\n",
       "        vertical-align: middle;\n",
       "    }\n",
       "\n",
       "    .dataframe tbody tr th {\n",
       "        vertical-align: top;\n",
       "    }\n",
       "\n",
       "    .dataframe thead th {\n",
       "        text-align: right;\n",
       "    }\n",
       "</style>\n",
       "<table border=\"1\" class=\"dataframe\">\n",
       "  <thead>\n",
       "    <tr style=\"text-align: right;\">\n",
       "      <th></th>\n",
       "      <th>chr</th>\n",
       "      <th>pos</th>\n",
       "      <th>mut</th>\n",
       "    </tr>\n",
       "  </thead>\n",
       "  <tbody>\n",
       "    <tr>\n",
       "      <th>0</th>\n",
       "      <td>chr19</td>\n",
       "      <td>29</td>\n",
       "      <td>A/A</td>\n",
       "    </tr>\n",
       "  </tbody>\n",
       "</table>\n",
       "</div>"
      ],
      "text/plain": [
       "     chr  pos  mut\n",
       "0  chr19   29  A/A"
      ]
     },
     "execution_count": 222,
     "metadata": {},
     "output_type": "execute_result"
    }
   ],
   "source": [
    "df_hs.head(1)"
   ]
  },
  {
   "cell_type": "code",
   "execution_count": 223,
   "metadata": {},
   "outputs": [
    {
     "data": {
      "text/plain": [
       "(51682, 3)"
      ]
     },
     "execution_count": 223,
     "metadata": {},
     "output_type": "execute_result"
    }
   ],
   "source": [
    "df_hs.shape"
   ]
  },
  {
   "cell_type": "code",
   "execution_count": 224,
   "metadata": {},
   "outputs": [
    {
     "data": {
      "text/plain": [
       "51682"
      ]
     },
     "execution_count": 224,
     "metadata": {},
     "output_type": "execute_result"
    }
   ],
   "source": [
    "np.array([df.shape[0] for df in [*df_healthy_filtered, *df_sick_filtered]]).sum()"
   ]
  },
  {
   "cell_type": "markdown",
   "metadata": {},
   "source": [
    "Works fine! It has three columns (as we wanted) and as many rows as all the rows from all the dataframes. So it is a valid concatenation. We can proceed."
   ]
  },
  {
   "cell_type": "markdown",
   "metadata": {},
   "source": [
    "## Get unique values for each column\n",
    "\n",
    "We have all the data in one, neat dataframe. It is time to check how many unique values are there in each column. To do it we will use `unique` funciton."
   ]
  },
  {
   "cell_type": "code",
   "execution_count": 225,
   "metadata": {},
   "outputs": [
    {
     "data": {
      "text/plain": [
       "(24,)"
      ]
     },
     "execution_count": 225,
     "metadata": {},
     "output_type": "execute_result"
    }
   ],
   "source": [
    "chr_unique = df_hs[\"chr\"].unique()\n",
    "chr_unique.shape"
   ]
  },
  {
   "cell_type": "code",
   "execution_count": 226,
   "metadata": {},
   "outputs": [
    {
     "data": {
      "text/plain": [
       "(1063,)"
      ]
     },
     "execution_count": 226,
     "metadata": {},
     "output_type": "execute_result"
    }
   ],
   "source": [
    "pos_unique = df_hs[\"pos\"].unique()\n",
    "pos_unique.shape"
   ]
  },
  {
   "cell_type": "code",
   "execution_count": 227,
   "metadata": {},
   "outputs": [
    {
     "data": {
      "text/plain": [
       "(16,)"
      ]
     },
     "execution_count": 227,
     "metadata": {},
     "output_type": "execute_result"
    }
   ],
   "source": [
    "mut_unique = df_hs[\"mut\"].unique()\n",
    "mut_unique.shape"
   ]
  },
  {
   "cell_type": "markdown",
   "metadata": {},
   "source": [
    "Okay, so now we know that there are 24 different pairs of chromosomes in the set, there are 1063 unique positions and 16 different mutaiton types. That's awesome... WAIT!"
   ]
  },
  {
   "cell_type": "markdown",
   "metadata": {},
   "source": [
    "### Is there something wrong with the data?"
   ]
  },
  {
   "cell_type": "markdown",
   "metadata": {},
   "source": [
    "Yes, it is! Humans have only 23 different pairs of chromosomes! Strange... let's see what values are there:"
   ]
  },
  {
   "cell_type": "code",
   "execution_count": 228,
   "metadata": {},
   "outputs": [
    {
     "data": {
      "text/plain": [
       "array(['chr19', 'chr15', 'chr14', 'chr10', 'chr11', 'chr1', 'chr16',\n",
       "       'chrY', 'chr7', 'chrX', 'chr22', 'chr20', 'chr4', 'chr6', 'chr8',\n",
       "       'chr9', 'chr18', 'chr5', 'chr13', 'chr3', 'chr2', 'chr12', 'chr21',\n",
       "       'chr17'], dtype=object)"
      ]
     },
     "execution_count": 228,
     "metadata": {},
     "output_type": "execute_result"
    }
   ],
   "source": [
    "chr_unique"
   ]
  },
  {
   "cell_type": "markdown",
   "metadata": {},
   "source": [
    "What a mess.. let's order them alphabetically:"
   ]
  },
  {
   "cell_type": "code",
   "execution_count": 229,
   "metadata": {},
   "outputs": [
    {
     "data": {
      "text/plain": [
       "array(['chr1', 'chr10', 'chr11', 'chr12', 'chr13', 'chr14', 'chr15',\n",
       "       'chr16', 'chr17', 'chr18', 'chr19', 'chr2', 'chr20', 'chr21',\n",
       "       'chr22', 'chr3', 'chr4', 'chr5', 'chr6', 'chr7', 'chr8', 'chr9',\n",
       "       'chrX', 'chrY'], dtype=object)"
      ]
     },
     "execution_count": 229,
     "metadata": {},
     "output_type": "execute_result"
    }
   ],
   "source": [
    "np.sort(chr_unique)"
   ]
  },
  {
   "cell_type": "markdown",
   "metadata": {},
   "source": [
    "Okay, these files clearly have chromosomes: from chr1 to chr22 plus chrX and chrY. We found an error in the data, but what values are bad?"
   ]
  },
  {
   "cell_type": "markdown",
   "metadata": {},
   "source": [
    "## Time to ask questions to person, who knows context of this data\n",
    "\n",
    "Question is simple: \"what's going on with these data?\"\n",
    "Answer from the person, who knows the data: \"Hmmm... it seams that the company we hired to get that data made a blunder. Thanks! Now we know, to never hire them again! About these chromosomes... just get rid of any row that has chr=\"chr22\".\"\n",
    "\n",
    "Okay! It's time to perform filtering then!"
   ]
  },
  {
   "cell_type": "markdown",
   "metadata": {},
   "source": [
    "## Get rows that satisfies boolean condition\n",
    "\n",
    "If pandas dataframe will get in it's square parenthesis series of boolean values (True, False, False, True...) it will return Dataframe containing rows which corresponding position of input series had True value. So, let's do the filtering!"
   ]
  },
  {
   "cell_type": "code",
   "execution_count": 230,
   "metadata": {},
   "outputs": [],
   "source": [
    "df_hs = df_hs[df_hs[\"chr\"] != \"chr22\"]"
   ]
  },
  {
   "cell_type": "markdown",
   "metadata": {},
   "source": [
    "Quick check:"
   ]
  },
  {
   "cell_type": "code",
   "execution_count": 231,
   "metadata": {},
   "outputs": [
    {
     "data": {
      "text/plain": [
       "(23,)"
      ]
     },
     "execution_count": 231,
     "metadata": {},
     "output_type": "execute_result"
    }
   ],
   "source": [
    "chr_unique = df_hs[\"chr\"].unique()\n",
    "chr_unique.shape"
   ]
  },
  {
   "cell_type": "code",
   "execution_count": 232,
   "metadata": {},
   "outputs": [
    {
     "data": {
      "text/plain": [
       "array(['chr1', 'chr10', 'chr11', 'chr12', 'chr13', 'chr14', 'chr15',\n",
       "       'chr16', 'chr17', 'chr18', 'chr19', 'chr2', 'chr20', 'chr21',\n",
       "       'chr3', 'chr4', 'chr5', 'chr6', 'chr7', 'chr8', 'chr9', 'chrX',\n",
       "       'chrY'], dtype=object)"
      ]
     },
     "execution_count": 232,
     "metadata": {},
     "output_type": "execute_result"
    }
   ],
   "source": [
    "np.sort(chr_unique)"
   ]
  },
  {
   "cell_type": "markdown",
   "metadata": {},
   "source": [
    "Outstanding! It worked! But wait... we need to update rows statistics now!"
   ]
  },
  {
   "cell_type": "code",
   "execution_count": 233,
   "metadata": {},
   "outputs": [],
   "source": [
    "df_healthy_filtered = [df[df[\"chr\"] != \"chr22\"] for df in df_healthy_filtered]\n",
    "df_sick_filtered = [df[df[\"chr\"] != \"chr22\"] for df in df_sick_filtered]"
   ]
  },
  {
   "cell_type": "code",
   "execution_count": 234,
   "metadata": {},
   "outputs": [
    {
     "data": {
      "text/plain": [
       "{'sum': 29170,\n",
       " 'mean': 486.1666666666667,\n",
       " 'min': 460,\n",
       " 'max': 513,\n",
       " 'std': 13.309353436169951}"
      ]
     },
     "execution_count": 234,
     "metadata": {},
     "output_type": "execute_result"
    }
   ],
   "source": [
    "get_rows_statistics(df_healthy_filtered)"
   ]
  },
  {
   "cell_type": "code",
   "execution_count": 235,
   "metadata": {},
   "outputs": [
    {
     "data": {
      "text/plain": [
       "{'sum': 20296,\n",
       " 'mean': 483.23809523809524,\n",
       " 'min': 462,\n",
       " 'max': 510,\n",
       " 'std': 10.960555955245725}"
      ]
     },
     "execution_count": 235,
     "metadata": {},
     "output_type": "execute_result"
    }
   ],
   "source": [
    "get_rows_statistics(df_sick_filtered)"
   ]
  },
  {
   "cell_type": "markdown",
   "metadata": {},
   "source": [
    "## Get histogram of values apperance\n",
    "\n",
    "We know how many unique values are in each column. Now, we would like to know, how often each of them appears. Let's make the histograms!"
   ]
  },
  {
   "cell_type": "code",
   "execution_count": 236,
   "metadata": {},
   "outputs": [
    {
     "data": {
      "text/plain": [
       "<AxesSubplot:>"
      ]
     },
     "execution_count": 236,
     "metadata": {},
     "output_type": "execute_result"
    },
    {
     "data": {
      "image/png": "[encoded data removed]",
      "text/plain": [
       "<Figure size 432x288 with 1 Axes>"
      ]
     },
     "metadata": {
      "needs_background": "light"
     },
     "output_type": "display_data"
    }
   ],
   "source": [
    "df_hs[\"chr\"].hist()"
   ]
  },
  {
   "cell_type": "markdown",
   "metadata": {},
   "source": [
    "Yup... super-readable... Jupyter Notebooks limitations are limiting. Nonetheless, we can assume that distribution of chromosomes is uniform-ish."
   ]
  },
  {
   "cell_type": "code",
   "execution_count": 237,
   "metadata": {},
   "outputs": [
    {
     "data": {
      "text/plain": [
       "<AxesSubplot:>"
      ]
     },
     "execution_count": 237,
     "metadata": {},
     "output_type": "execute_result"
    },
    {
     "data": {
      "image/png": "[encoded data removed]",
      "text/plain": [
       "<Figure size 432x288 with 1 Axes>"
      ]
     },
     "metadata": {
      "needs_background": "light"
     },
     "output_type": "display_data"
    }
   ],
   "source": [
    "df_hs[\"pos\"].hist()"
   ]
  },
  {
   "cell_type": "markdown",
   "metadata": {},
   "source": [
    "Problem... `pos` column contains integer objects, so Pandas aggregates them in integer bins instead of treating them like unique values. Let's convert them to strings before making a histogram and see how it will works!"
   ]
  },
  {
   "cell_type": "code",
   "execution_count": 238,
   "metadata": {},
   "outputs": [
    {
     "data": {
      "text/plain": [
       "<AxesSubplot:>"
      ]
     },
     "execution_count": 238,
     "metadata": {},
     "output_type": "execute_result"
    },
    {
     "data": {
      "image/png": "[encoded data removed]",
      "text/plain": [
       "<Figure size 432x288 with 1 Axes>"
      ]
     },
     "metadata": {
      "needs_background": "light"
     },
     "output_type": "display_data"
    }
   ],
   "source": [
    "df_hs[\"pos\"].astype(str).hist()"
   ]
  },
  {
   "cell_type": "markdown",
   "metadata": {},
   "source": [
    "Oh, well... maybe an integer histogram wasn't that bad after all? Again, distribution is uniform-ish"
   ]
  },
  {
   "cell_type": "code",
   "execution_count": 239,
   "metadata": {},
   "outputs": [
    {
     "data": {
      "text/plain": [
       "<AxesSubplot:>"
      ]
     },
     "execution_count": 239,
     "metadata": {},
     "output_type": "execute_result"
    },
    {
     "data": {
      "image/png": "[encoded data removed]",
      "text/plain": [
       "<Figure size 432x288 with 1 Axes>"
      ]
     },
     "metadata": {
      "needs_background": "light"
     },
     "output_type": "display_data"
    }
   ],
   "source": [
    "df_hs[\"mut\"].hist()"
   ]
  },
  {
   "cell_type": "markdown",
   "metadata": {},
   "source": [
    "That is a nice histogram! Okay, we see that some values are less frequent than others, but again, there is no distribution better representing these data than uniform, so the verdict is: uniform-ish."
   ]
  },
  {
   "cell_type": "markdown",
   "metadata": {},
   "source": [
    "## How many unique pairs and triplets are there?\n",
    "\n",
    "Okay, so what do we know so far?\n",
    "\n",
    "- There are 23 different chromosomes\n",
    "- There are 1063 different positions\n",
    "- There are 16 different mutations\n",
    "\n",
    "Now, if these values are independent of each other then we have 23 * 1063 * 16 = 391.184 unique triplets! That is NOT GOOD! If this is true, then we have two options:\n",
    "\n",
    "- One-hot encoding for existance of every possible triplets in the file. Now, average healthy person file contains 486 rows and average sick person files contains 483 rows. Let's say on average every one of them has 485 rows to make calculations easier. It would mean, that this one-hot encoded vector contains only around 0.12% of ones and rest is zeros. That is VERY NOT GOOD. Such inbalance of values may prove to be very difficult for classifier to learn.\n",
    "- Embedding layers. Ach, yes. Embedding layers! Magical layers allowing us to treat symbolic features like computable vectors. They are wonderful featues, but... if you can not use them, don't use them. They are a bit specific and complicated, when the taks seems to be quite easy. It's just a binary classification after all! Also, if we use embedding layers, then out of the blue we have to ensure that triplets will appear in the same order, so each triplet would meet weights of FC layers designed to train them. It would probably mean some complicated neural network architecture like Time-Delay Neural Network, Convolutional Neural Network or even LSTM Network! Again, it is a binary classification task after all!\n",
    "\n",
    "So before we start to panic about difficultiness of the task, let's see if chromosomes, positions and mutations are truly independent from each other."
   ]
  },
  {
   "cell_type": "code",
   "execution_count": 240,
   "metadata": {},
   "outputs": [
    {
     "data": {
      "text/html": [
       "<div>\n",
       "<style scoped>\n",
       "    .dataframe tbody tr th:only-of-type {\n",
       "        vertical-align: middle;\n",
       "    }\n",
       "\n",
       "    .dataframe tbody tr th {\n",
       "        vertical-align: top;\n",
       "    }\n",
       "\n",
       "    .dataframe thead th {\n",
       "        text-align: right;\n",
       "    }\n",
       "</style>\n",
       "<table border=\"1\" class=\"dataframe\">\n",
       "  <thead>\n",
       "    <tr style=\"text-align: right;\">\n",
       "      <th></th>\n",
       "      <th></th>\n",
       "      <th>mut</th>\n",
       "    </tr>\n",
       "    <tr>\n",
       "      <th>chr</th>\n",
       "      <th>pos</th>\n",
       "      <th></th>\n",
       "    </tr>\n",
       "  </thead>\n",
       "  <tbody>\n",
       "    <tr>\n",
       "      <th>chrX</th>\n",
       "      <th>842</th>\n",
       "      <td>92</td>\n",
       "    </tr>\n",
       "    <tr>\n",
       "      <th>chrY</th>\n",
       "      <th>1149</th>\n",
       "      <td>91</td>\n",
       "    </tr>\n",
       "    <tr>\n",
       "      <th>chr13</th>\n",
       "      <th>1407</th>\n",
       "      <td>86</td>\n",
       "    </tr>\n",
       "    <tr>\n",
       "      <th>chrX</th>\n",
       "      <th>1767</th>\n",
       "      <td>85</td>\n",
       "    </tr>\n",
       "    <tr>\n",
       "      <th>chr2</th>\n",
       "      <th>308</th>\n",
       "      <td>84</td>\n",
       "    </tr>\n",
       "    <tr>\n",
       "      <th>...</th>\n",
       "      <th>...</th>\n",
       "      <td>...</td>\n",
       "    </tr>\n",
       "    <tr>\n",
       "      <th>chr11</th>\n",
       "      <th>1613</th>\n",
       "      <td>11</td>\n",
       "    </tr>\n",
       "    <tr>\n",
       "      <th>chr21</th>\n",
       "      <th>784</th>\n",
       "      <td>11</td>\n",
       "    </tr>\n",
       "    <tr>\n",
       "      <th>chr7</th>\n",
       "      <th>1166</th>\n",
       "      <td>10</td>\n",
       "    </tr>\n",
       "    <tr>\n",
       "      <th rowspan=\"2\" valign=\"top\">chr21</th>\n",
       "      <th>536</th>\n",
       "      <td>10</td>\n",
       "    </tr>\n",
       "    <tr>\n",
       "      <th>1733</th>\n",
       "      <td>9</td>\n",
       "    </tr>\n",
       "  </tbody>\n",
       "</table>\n",
       "<p>1407 rows × 1 columns</p>\n",
       "</div>"
      ],
      "text/plain": [
       "            mut\n",
       "chr   pos      \n",
       "chrX  842    92\n",
       "chrY  1149   91\n",
       "chr13 1407   86\n",
       "chrX  1767   85\n",
       "chr2  308    84\n",
       "...         ...\n",
       "chr11 1613   11\n",
       "chr21 784    11\n",
       "chr7  1166   10\n",
       "chr21 536    10\n",
       "      1733    9\n",
       "\n",
       "[1407 rows x 1 columns]"
      ]
     },
     "execution_count": 240,
     "metadata": {},
     "output_type": "execute_result"
    }
   ],
   "source": [
    "chr_pos = df_hs.groupby([\"chr\", \"pos\"])\n",
    "chr_pos.count().sort_values(\"mut\", ascending=[0])"
   ]
  },
  {
   "cell_type": "markdown",
   "metadata": {},
   "source": [
    "Not so bad! There are only 1407 unique pairs of chr and pos instead of 23 * 1063 = 24.449! Moreover, it seems that there are more probable pairs (chrX + 842 with frequency of 92) than others (chr21 + 536). Let's check more!"
   ]
  },
  {
   "cell_type": "code",
   "execution_count": 241,
   "metadata": {},
   "outputs": [
    {
     "data": {
      "text/html": [
       "<div>\n",
       "<style scoped>\n",
       "    .dataframe tbody tr th:only-of-type {\n",
       "        vertical-align: middle;\n",
       "    }\n",
       "\n",
       "    .dataframe tbody tr th {\n",
       "        vertical-align: top;\n",
       "    }\n",
       "\n",
       "    .dataframe thead th {\n",
       "        text-align: right;\n",
       "    }\n",
       "</style>\n",
       "<table border=\"1\" class=\"dataframe\">\n",
       "  <thead>\n",
       "    <tr style=\"text-align: right;\">\n",
       "      <th></th>\n",
       "      <th></th>\n",
       "      <th>pos</th>\n",
       "    </tr>\n",
       "    <tr>\n",
       "      <th>chr</th>\n",
       "      <th>mut</th>\n",
       "      <th></th>\n",
       "    </tr>\n",
       "  </thead>\n",
       "  <tbody>\n",
       "    <tr>\n",
       "      <th>chr16</th>\n",
       "      <th>A/G</th>\n",
       "      <td>393</td>\n",
       "    </tr>\n",
       "    <tr>\n",
       "      <th>chr2</th>\n",
       "      <th>C/C</th>\n",
       "      <td>342</td>\n",
       "    </tr>\n",
       "    <tr>\n",
       "      <th rowspan=\"2\" valign=\"top\">chr7</th>\n",
       "      <th>G/T</th>\n",
       "      <td>342</td>\n",
       "    </tr>\n",
       "    <tr>\n",
       "      <th>C/G</th>\n",
       "      <td>321</td>\n",
       "    </tr>\n",
       "    <tr>\n",
       "      <th>chr6</th>\n",
       "      <th>C/C</th>\n",
       "      <td>319</td>\n",
       "    </tr>\n",
       "    <tr>\n",
       "      <th>...</th>\n",
       "      <th>...</th>\n",
       "      <td>...</td>\n",
       "    </tr>\n",
       "    <tr>\n",
       "      <th>chr9</th>\n",
       "      <th>C/T</th>\n",
       "      <td>19</td>\n",
       "    </tr>\n",
       "    <tr>\n",
       "      <th>chrY</th>\n",
       "      <th>C/C</th>\n",
       "      <td>18</td>\n",
       "    </tr>\n",
       "    <tr>\n",
       "      <th>chr3</th>\n",
       "      <th>A/T</th>\n",
       "      <td>18</td>\n",
       "    </tr>\n",
       "    <tr>\n",
       "      <th>chr21</th>\n",
       "      <th>C/T</th>\n",
       "      <td>16</td>\n",
       "    </tr>\n",
       "    <tr>\n",
       "      <th>chr12</th>\n",
       "      <th>C/A</th>\n",
       "      <td>14</td>\n",
       "    </tr>\n",
       "  </tbody>\n",
       "</table>\n",
       "<p>361 rows × 1 columns</p>\n",
       "</div>"
      ],
      "text/plain": [
       "           pos\n",
       "chr   mut     \n",
       "chr16 A/G  393\n",
       "chr2  C/C  342\n",
       "chr7  G/T  342\n",
       "      C/G  321\n",
       "chr6  C/C  319\n",
       "...        ...\n",
       "chr9  C/T   19\n",
       "chrY  C/C   18\n",
       "chr3  A/T   18\n",
       "chr21 C/T   16\n",
       "chr12 C/A   14\n",
       "\n",
       "[361 rows x 1 columns]"
      ]
     },
     "execution_count": 241,
     "metadata": {},
     "output_type": "execute_result"
    }
   ],
   "source": [
    "chr_mut = df_hs.groupby([\"chr\", \"mut\"])\n",
    "chr_mut.count().sort_values(\"pos\", ascending=[0])"
   ]
  },
  {
   "cell_type": "markdown",
   "metadata": {},
   "source": [
    "Well... not so good here. 361 vs. 23 * 16 = 368"
   ]
  },
  {
   "cell_type": "code",
   "execution_count": 242,
   "metadata": {},
   "outputs": [
    {
     "data": {
      "text/html": [
       "<div>\n",
       "<style scoped>\n",
       "    .dataframe tbody tr th:only-of-type {\n",
       "        vertical-align: middle;\n",
       "    }\n",
       "\n",
       "    .dataframe tbody tr th {\n",
       "        vertical-align: top;\n",
       "    }\n",
       "\n",
       "    .dataframe thead th {\n",
       "        text-align: right;\n",
       "    }\n",
       "</style>\n",
       "<table border=\"1\" class=\"dataframe\">\n",
       "  <thead>\n",
       "    <tr style=\"text-align: right;\">\n",
       "      <th></th>\n",
       "      <th></th>\n",
       "      <th>chr</th>\n",
       "    </tr>\n",
       "    <tr>\n",
       "      <th>pos</th>\n",
       "      <th>mut</th>\n",
       "      <th></th>\n",
       "    </tr>\n",
       "  </thead>\n",
       "  <tbody>\n",
       "    <tr>\n",
       "      <th>509</th>\n",
       "      <th>T/T</th>\n",
       "      <td>94</td>\n",
       "    </tr>\n",
       "    <tr>\n",
       "      <th>1794</th>\n",
       "      <th>C/T</th>\n",
       "      <td>93</td>\n",
       "    </tr>\n",
       "    <tr>\n",
       "      <th>1360</th>\n",
       "      <th>C/T</th>\n",
       "      <td>91</td>\n",
       "    </tr>\n",
       "    <tr>\n",
       "      <th>1203</th>\n",
       "      <th>A/G</th>\n",
       "      <td>87</td>\n",
       "    </tr>\n",
       "    <tr>\n",
       "      <th>609</th>\n",
       "      <th>A/T</th>\n",
       "      <td>82</td>\n",
       "    </tr>\n",
       "    <tr>\n",
       "      <th>...</th>\n",
       "      <th>...</th>\n",
       "      <td>...</td>\n",
       "    </tr>\n",
       "    <tr>\n",
       "      <th>784</th>\n",
       "      <th>C/A</th>\n",
       "      <td>11</td>\n",
       "    </tr>\n",
       "    <tr>\n",
       "      <th>62</th>\n",
       "      <th>C/T</th>\n",
       "      <td>11</td>\n",
       "    </tr>\n",
       "    <tr>\n",
       "      <th>1166</th>\n",
       "      <th>C/G</th>\n",
       "      <td>10</td>\n",
       "    </tr>\n",
       "    <tr>\n",
       "      <th>536</th>\n",
       "      <th>G/G</th>\n",
       "      <td>10</td>\n",
       "    </tr>\n",
       "    <tr>\n",
       "      <th>1733</th>\n",
       "      <th>A/C</th>\n",
       "      <td>9</td>\n",
       "    </tr>\n",
       "  </tbody>\n",
       "</table>\n",
       "<p>1407 rows × 1 columns</p>\n",
       "</div>"
      ],
      "text/plain": [
       "          chr\n",
       "pos  mut     \n",
       "509  T/T   94\n",
       "1794 C/T   93\n",
       "1360 C/T   91\n",
       "1203 A/G   87\n",
       "609  A/T   82\n",
       "...       ...\n",
       "784  C/A   11\n",
       "62   C/T   11\n",
       "1166 C/G   10\n",
       "536  G/G   10\n",
       "1733 A/C    9\n",
       "\n",
       "[1407 rows x 1 columns]"
      ]
     },
     "execution_count": 242,
     "metadata": {},
     "output_type": "execute_result"
    }
   ],
   "source": [
    "pos_mut = df_hs.groupby([\"pos\", \"mut\"])\n",
    "pos_mut.count().sort_values(\"chr\", ascending=[0])"
   ]
  },
  {
   "cell_type": "markdown",
   "metadata": {},
   "source": [
    "1407 vs. 1063 * 16 = 17.008. Not bad! Now, let's check how many unique triplets are there."
   ]
  },
  {
   "cell_type": "code",
   "execution_count": 243,
   "metadata": {},
   "outputs": [
    {
     "data": {
      "text/plain": [
       "1434"
      ]
     },
     "execution_count": 243,
     "metadata": {},
     "output_type": "execute_result"
    }
   ],
   "source": [
    "unique = df_hs.groupby([\"chr\", \"pos\", \"mut\"])\n",
    "len(unique)"
   ]
  },
  {
   "cell_type": "markdown",
   "metadata": {},
   "source": [
    "Wow!... Only 1434 unique triplets instead of over 300 thousands! Not bad. Not bad at all! Now... we need a histogram of they apperance"
   ]
  },
  {
   "cell_type": "code",
   "execution_count": 247,
   "metadata": {},
   "outputs": [
    {
     "data": {
      "text/html": [
       "<div>\n",
       "<style scoped>\n",
       "    .dataframe tbody tr th:only-of-type {\n",
       "        vertical-align: middle;\n",
       "    }\n",
       "\n",
       "    .dataframe tbody tr th {\n",
       "        vertical-align: top;\n",
       "    }\n",
       "\n",
       "    .dataframe thead th {\n",
       "        text-align: right;\n",
       "    }\n",
       "</style>\n",
       "<table border=\"1\" class=\"dataframe\">\n",
       "  <thead>\n",
       "    <tr style=\"text-align: right;\">\n",
       "      <th></th>\n",
       "      <th></th>\n",
       "      <th></th>\n",
       "      <th>freq</th>\n",
       "    </tr>\n",
       "    <tr>\n",
       "      <th>chr</th>\n",
       "      <th>pos</th>\n",
       "      <th>mut</th>\n",
       "      <th></th>\n",
       "    </tr>\n",
       "  </thead>\n",
       "  <tbody>\n",
       "    <tr>\n",
       "      <th>chr18</th>\n",
       "      <th>1597</th>\n",
       "      <th>G/A</th>\n",
       "      <td>62</td>\n",
       "    </tr>\n",
       "    <tr>\n",
       "      <th rowspan=\"2\" valign=\"top\">chr8</th>\n",
       "      <th>1204</th>\n",
       "      <th>T/C</th>\n",
       "      <td>56</td>\n",
       "    </tr>\n",
       "    <tr>\n",
       "      <th>1712</th>\n",
       "      <th>C/G</th>\n",
       "      <td>55</td>\n",
       "    </tr>\n",
       "    <tr>\n",
       "      <th>chr16</th>\n",
       "      <th>1685</th>\n",
       "      <th>A/G</th>\n",
       "      <td>54</td>\n",
       "    </tr>\n",
       "    <tr>\n",
       "      <th>chr10</th>\n",
       "      <th>609</th>\n",
       "      <th>A/T</th>\n",
       "      <td>53</td>\n",
       "    </tr>\n",
       "    <tr>\n",
       "      <th>...</th>\n",
       "      <th>...</th>\n",
       "      <th>...</th>\n",
       "      <td>...</td>\n",
       "    </tr>\n",
       "    <tr>\n",
       "      <th>chr17</th>\n",
       "      <th>62</th>\n",
       "      <th>C/T</th>\n",
       "      <td>11</td>\n",
       "    </tr>\n",
       "    <tr>\n",
       "      <th rowspan=\"2\" valign=\"top\">chr21</th>\n",
       "      <th>784</th>\n",
       "      <th>C/A</th>\n",
       "      <td>11</td>\n",
       "    </tr>\n",
       "    <tr>\n",
       "      <th>536</th>\n",
       "      <th>G/G</th>\n",
       "      <td>10</td>\n",
       "    </tr>\n",
       "    <tr>\n",
       "      <th>chr7</th>\n",
       "      <th>1166</th>\n",
       "      <th>C/G</th>\n",
       "      <td>10</td>\n",
       "    </tr>\n",
       "    <tr>\n",
       "      <th>chr21</th>\n",
       "      <th>1733</th>\n",
       "      <th>A/C</th>\n",
       "      <td>9</td>\n",
       "    </tr>\n",
       "  </tbody>\n",
       "</table>\n",
       "<p>1434 rows × 1 columns</p>\n",
       "</div>"
      ],
      "text/plain": [
       "                freq\n",
       "chr   pos  mut      \n",
       "chr18 1597 G/A    62\n",
       "chr8  1204 T/C    56\n",
       "      1712 C/G    55\n",
       "chr16 1685 A/G    54\n",
       "chr10 609  A/T    53\n",
       "...              ...\n",
       "chr17 62   C/T    11\n",
       "chr21 784  C/A    11\n",
       "      536  G/G    10\n",
       "chr7  1166 C/G    10\n",
       "chr21 1733 A/C     9\n",
       "\n",
       "[1434 rows x 1 columns]"
      ]
     },
     "execution_count": 247,
     "metadata": {},
     "output_type": "execute_result"
    }
   ],
   "source": [
    "df_hs[\"freq\"] = 0\n",
    "unique = df_hs.groupby([\"chr\", \"pos\", \"mut\"])\n",
    "unique = unique.count().sort_values(\"freq\", ascending=[0])\n",
    "unique"
   ]
  },
  {
   "cell_type": "markdown",
   "metadata": {},
   "source": [
    "Not bad, not bad. Now it is time to get some statistics on how often these triplets appear"
   ]
  },
  {
   "cell_type": "code",
   "execution_count": 248,
   "metadata": {},
   "outputs": [
    {
     "name": "stdout",
     "output_type": "stream",
     "text": [
      "Average: 34.49511854951186, Min: 9, Max: 62, Std: 9.415944881553063\n"
     ]
    }
   ],
   "source": [
    "freqs = unique[\"freq\"].to_numpy()\n",
    "\n",
    "print(f\"Average: {freqs.mean()}, Min: {freqs.min()}, Max: {freqs.max()}, Std: {freqs.std()}\")"
   ]
  },
  {
   "cell_type": "markdown",
   "metadata": {},
   "source": [
    "How about quickly plotting a histogram?"
   ]
  },
  {
   "cell_type": "code",
   "execution_count": 249,
   "metadata": {},
   "outputs": [
    {
     "data": {
      "text/plain": [
       "(array([ 29.,  88., 141., 188., 237., 310., 327., 104.,   9.,   1.]),\n",
       " array([ 9. , 14.3, 19.6, 24.9, 30.2, 35.5, 40.8, 46.1, 51.4, 56.7, 62. ]),\n",
       " <BarContainer object of 10 artists>)"
      ]
     },
     "execution_count": 249,
     "metadata": {},
     "output_type": "execute_result"
    },
    {
     "data": {
      "image/png": "[encoded data removed]",
      "text/plain": [
       "<Figure size 432x288 with 1 Axes>"
      ]
     },
     "metadata": {
      "needs_background": "light"
     },
     "output_type": "display_data"
    }
   ],
   "source": [
    "plt.hist(freqs)"
   ]
  },
  {
   "cell_type": "markdown",
   "metadata": {},
   "source": [
    "Okay, now we know quite a lot about our data! Let's save for later then:"
   ]
  },
  {
   "cell_type": "code",
   "execution_count": 251,
   "metadata": {},
   "outputs": [],
   "source": [
    "unique.to_csv(\"histogram.csv\")"
   ]
  },
  {
   "cell_type": "markdown",
   "metadata": {},
   "source": [
    "Awesome! Now, let's check how often each of these pairs appears in healthy and sick people"
   ]
  },
  {
   "cell_type": "code",
   "execution_count": 256,
   "metadata": {},
   "outputs": [],
   "source": [
    "dfh = pd.concat(df_healthy_filtered, axis=0)\n",
    "dfs = pd.concat(df_sick_filtered, axis=0)\n",
    "\n",
    "dfh[\"freq\"] = 0\n",
    "dfh.groupby([\"chr\", \"pos\", \"mut\"]).count().sort_values(\"freq\", ascending=[0]).to_csv(\"healthy_histogram.csv\")\n",
    "\n",
    "dfs[\"freq\"] = 0\n",
    "dfs.groupby([\"chr\", \"pos\", \"mut\"]).count().sort_values(\"freq\", ascending=[0]).to_csv(\"sick_histogram.csv\")"
   ]
  },
  {
   "cell_type": "markdown",
   "metadata": {},
   "source": [
    "Okay! So we have histograms of healthy and sick people. Now let's merge them, to see what triplets are common among all groups, whic are group specific and which are irrelevant for every group."
   ]
  },
  {
   "cell_type": "code",
   "execution_count": 261,
   "metadata": {},
   "outputs": [],
   "source": [
    "healthy_hist = pd.read_csv(\"healthy_histogram.csv\")\n",
    "healthy_hist = healthy_hist.rename(columns={\"freq\": \"healthy_freq\"})\n",
    "\n",
    "sick_hist = pd.read_csv(\"sick_histogram.csv\")\n",
    "sick_hist = sick_hist.rename(columns={\"freq\": \"sick_freq\"})\n",
    "\n",
    "merged = healthy_hist.merge(sick_hist, on=[\"chr\", \"pos\", \"mut\"], how=\"outer\")\n",
    "merged[\"freq\"] = merged[\"healthy_freq\"] + merged[\"sick_freq\"]\n",
    "merged.sort_values(\"freq\", ascending=[0])\n",
    "merged.to_csv(\"healthy_sick_histogram.csv\")"
   ]
  },
  {
   "cell_type": "markdown",
   "metadata": {},
   "source": [
    "We finished EDA! So, what did we learned?\n",
    "\n",
    "- There are columns name mismatch between healthy and sick ones. We corrected it\n",
    "- There is an error in data. Rows may contain non-existing chr22. We cleaned it.\n",
    "- Typical file has around 485 triplets, when there are 1434 unique triplets in whole set. It means, that if we encode file using one-hot encoding it will contain around 34% ones. That's awesome! It means that we can use it and our cliassifiers can be simple one.\n",
    "\n",
    "Let's use that knowledge to encode data for a classifier!"
   ]
  },
  {
   "cell_type": "markdown",
   "metadata": {},
   "source": [
    "# 2. Data encoding\n",
    "\n",
    "In this segment we will convert csv files of healthy and sick people so the machine learning classifier will be able to distinguish between healthy and sick people. Thanks to EDA, we know, that we can one-hot encode triplets. Let's get started!"
   ]
  },
  {
   "cell_type": "markdown",
   "metadata": {},
   "source": [
    "Load histogram:"
   ]
  },
  {
   "cell_type": "code",
   "execution_count": 318,
   "metadata": {},
   "outputs": [],
   "source": [
    "hist = pd.read_csv(\"histogram.csv\")"
   ]
  },
  {
   "cell_type": "markdown",
   "metadata": {},
   "source": [
    "Here we can filter out histogram to get rid of values that occur rarely, or maybe to exclude values that are to uniformly spread between healthy and sick alike. For now we won't do it, but it is good to remember about it."
   ]
  },
  {
   "cell_type": "markdown",
   "metadata": {},
   "source": [
    "Take only these colmuns, that encode gene:"
   ]
  },
  {
   "cell_type": "code",
   "execution_count": 319,
   "metadata": {},
   "outputs": [],
   "source": [
    "hist = hist[[\"chr\", \"pos\", \"mut\"]]"
   ]
  },
  {
   "cell_type": "markdown",
   "metadata": {},
   "source": [
    "Load csvs:"
   ]
  },
  {
   "cell_type": "code",
   "execution_count": 320,
   "metadata": {},
   "outputs": [],
   "source": [
    "def load(path: str) -> list:\n",
    "    file_paths = [os.path.join(path, f) for f in os.listdir(path)]\n",
    "    return [pd.read_csv(f) for f in file_paths]"
   ]
  },
  {
   "cell_type": "code",
   "execution_count": 321,
   "metadata": {},
   "outputs": [],
   "source": [
    "dfh = load(\"healthy\")\n",
    "dfs = load(\"sick\")"
   ]
  },
  {
   "cell_type": "markdown",
   "metadata": {},
   "source": [
    "Rename \"CHROMOSOME\" row in sick csvs for \"chr\""
   ]
  },
  {
   "cell_type": "code",
   "execution_count": 322,
   "metadata": {},
   "outputs": [],
   "source": [
    "dfs = [df.rename(columns={\"CHROMOSOME\": \"chr\"}) for df in dfs]"
   ]
  },
  {
   "cell_type": "markdown",
   "metadata": {},
   "source": [
    "Take only useful rows (\"chr\", \"pos\", \"mut\")"
   ]
  },
  {
   "cell_type": "code",
   "execution_count": 323,
   "metadata": {},
   "outputs": [],
   "source": [
    "dfh = [df[[\"chr\", \"pos\", \"mut\"]] for df in dfh]\n",
    "dfs = [df[[\"chr\", \"pos\", \"mut\"]] for df in dfs]"
   ]
  },
  {
   "cell_type": "markdown",
   "metadata": {},
   "source": [
    "Add column \"exists\" = 1"
   ]
  },
  {
   "cell_type": "code",
   "execution_count": 324,
   "metadata": {},
   "outputs": [],
   "source": [
    "for df in [*dfh, *dfs]:\n",
    "    df[\"exists\"] = 1"
   ]
  },
  {
   "cell_type": "markdown",
   "metadata": {},
   "source": [
    "Now, we want to perform one-hot encoding. It means that, we want to check for every triplet in histogram if such a triplet exists in the file. To speed up this process we will use left-join on histogram and file's dataframe and check \"exist\" column. If triplet exists in file, then \"exist\" column will have 1. If not, then Nan. Let's see how it worked on one frame:"
   ]
  },
  {
   "cell_type": "code",
   "execution_count": 325,
   "metadata": {},
   "outputs": [
    {
     "data": {
      "text/html": [
       "<div>\n",
       "<style scoped>\n",
       "    .dataframe tbody tr th:only-of-type {\n",
       "        vertical-align: middle;\n",
       "    }\n",
       "\n",
       "    .dataframe tbody tr th {\n",
       "        vertical-align: top;\n",
       "    }\n",
       "\n",
       "    .dataframe thead th {\n",
       "        text-align: right;\n",
       "    }\n",
       "</style>\n",
       "<table border=\"1\" class=\"dataframe\">\n",
       "  <thead>\n",
       "    <tr style=\"text-align: right;\">\n",
       "      <th></th>\n",
       "      <th>chr</th>\n",
       "      <th>pos</th>\n",
       "      <th>mut</th>\n",
       "      <th>exists</th>\n",
       "    </tr>\n",
       "  </thead>\n",
       "  <tbody>\n",
       "    <tr>\n",
       "      <th>0</th>\n",
       "      <td>chr18</td>\n",
       "      <td>1597</td>\n",
       "      <td>G/A</td>\n",
       "      <td>NaN</td>\n",
       "    </tr>\n",
       "    <tr>\n",
       "      <th>1</th>\n",
       "      <td>chr8</td>\n",
       "      <td>1204</td>\n",
       "      <td>T/C</td>\n",
       "      <td>1.0</td>\n",
       "    </tr>\n",
       "    <tr>\n",
       "      <th>2</th>\n",
       "      <td>chr8</td>\n",
       "      <td>1712</td>\n",
       "      <td>C/G</td>\n",
       "      <td>1.0</td>\n",
       "    </tr>\n",
       "    <tr>\n",
       "      <th>3</th>\n",
       "      <td>chr16</td>\n",
       "      <td>1685</td>\n",
       "      <td>A/G</td>\n",
       "      <td>NaN</td>\n",
       "    </tr>\n",
       "    <tr>\n",
       "      <th>4</th>\n",
       "      <td>chr10</td>\n",
       "      <td>609</td>\n",
       "      <td>A/T</td>\n",
       "      <td>1.0</td>\n",
       "    </tr>\n",
       "    <tr>\n",
       "      <th>...</th>\n",
       "      <td>...</td>\n",
       "      <td>...</td>\n",
       "      <td>...</td>\n",
       "      <td>...</td>\n",
       "    </tr>\n",
       "    <tr>\n",
       "      <th>1429</th>\n",
       "      <td>chr17</td>\n",
       "      <td>62</td>\n",
       "      <td>C/T</td>\n",
       "      <td>NaN</td>\n",
       "    </tr>\n",
       "    <tr>\n",
       "      <th>1430</th>\n",
       "      <td>chr21</td>\n",
       "      <td>784</td>\n",
       "      <td>C/A</td>\n",
       "      <td>NaN</td>\n",
       "    </tr>\n",
       "    <tr>\n",
       "      <th>1431</th>\n",
       "      <td>chr21</td>\n",
       "      <td>536</td>\n",
       "      <td>G/G</td>\n",
       "      <td>NaN</td>\n",
       "    </tr>\n",
       "    <tr>\n",
       "      <th>1432</th>\n",
       "      <td>chr7</td>\n",
       "      <td>1166</td>\n",
       "      <td>C/G</td>\n",
       "      <td>NaN</td>\n",
       "    </tr>\n",
       "    <tr>\n",
       "      <th>1433</th>\n",
       "      <td>chr21</td>\n",
       "      <td>1733</td>\n",
       "      <td>A/C</td>\n",
       "      <td>NaN</td>\n",
       "    </tr>\n",
       "  </tbody>\n",
       "</table>\n",
       "<p>1434 rows × 4 columns</p>\n",
       "</div>"
      ],
      "text/plain": [
       "        chr   pos  mut  exists\n",
       "0     chr18  1597  G/A     NaN\n",
       "1      chr8  1204  T/C     1.0\n",
       "2      chr8  1712  C/G     1.0\n",
       "3     chr16  1685  A/G     NaN\n",
       "4     chr10   609  A/T     1.0\n",
       "...     ...   ...  ...     ...\n",
       "1429  chr17    62  C/T     NaN\n",
       "1430  chr21   784  C/A     NaN\n",
       "1431  chr21   536  G/G     NaN\n",
       "1432   chr7  1166  C/G     NaN\n",
       "1433  chr21  1733  A/C     NaN\n",
       "\n",
       "[1434 rows x 4 columns]"
      ]
     },
     "execution_count": 325,
     "metadata": {},
     "output_type": "execute_result"
    }
   ],
   "source": [
    "hist.merge(dfh[0], on=[\"chr\", \"pos\", \"mut\"], how=\"left\")"
   ]
  },
  {
   "cell_type": "markdown",
   "metadata": {},
   "source": [
    "Not bad! However, Nan means nothing for classifier, so we have to convert them to zeros. Let's check now:"
   ]
  },
  {
   "cell_type": "code",
   "execution_count": 274,
   "metadata": {},
   "outputs": [
    {
     "data": {
      "text/html": [
       "<div>\n",
       "<style scoped>\n",
       "    .dataframe tbody tr th:only-of-type {\n",
       "        vertical-align: middle;\n",
       "    }\n",
       "\n",
       "    .dataframe tbody tr th {\n",
       "        vertical-align: top;\n",
       "    }\n",
       "\n",
       "    .dataframe thead th {\n",
       "        text-align: right;\n",
       "    }\n",
       "</style>\n",
       "<table border=\"1\" class=\"dataframe\">\n",
       "  <thead>\n",
       "    <tr style=\"text-align: right;\">\n",
       "      <th></th>\n",
       "      <th>chr</th>\n",
       "      <th>pos</th>\n",
       "      <th>mut</th>\n",
       "      <th>exists</th>\n",
       "    </tr>\n",
       "  </thead>\n",
       "  <tbody>\n",
       "    <tr>\n",
       "      <th>0</th>\n",
       "      <td>chr18</td>\n",
       "      <td>1597</td>\n",
       "      <td>G/A</td>\n",
       "      <td>0.0</td>\n",
       "    </tr>\n",
       "    <tr>\n",
       "      <th>1</th>\n",
       "      <td>chr8</td>\n",
       "      <td>1204</td>\n",
       "      <td>T/C</td>\n",
       "      <td>1.0</td>\n",
       "    </tr>\n",
       "    <tr>\n",
       "      <th>2</th>\n",
       "      <td>chr8</td>\n",
       "      <td>1712</td>\n",
       "      <td>C/G</td>\n",
       "      <td>1.0</td>\n",
       "    </tr>\n",
       "    <tr>\n",
       "      <th>3</th>\n",
       "      <td>chr16</td>\n",
       "      <td>1685</td>\n",
       "      <td>A/G</td>\n",
       "      <td>0.0</td>\n",
       "    </tr>\n",
       "    <tr>\n",
       "      <th>4</th>\n",
       "      <td>chr10</td>\n",
       "      <td>609</td>\n",
       "      <td>A/T</td>\n",
       "      <td>1.0</td>\n",
       "    </tr>\n",
       "    <tr>\n",
       "      <th>...</th>\n",
       "      <td>...</td>\n",
       "      <td>...</td>\n",
       "      <td>...</td>\n",
       "      <td>...</td>\n",
       "    </tr>\n",
       "    <tr>\n",
       "      <th>1429</th>\n",
       "      <td>chr17</td>\n",
       "      <td>62</td>\n",
       "      <td>C/T</td>\n",
       "      <td>0.0</td>\n",
       "    </tr>\n",
       "    <tr>\n",
       "      <th>1430</th>\n",
       "      <td>chr21</td>\n",
       "      <td>784</td>\n",
       "      <td>C/A</td>\n",
       "      <td>0.0</td>\n",
       "    </tr>\n",
       "    <tr>\n",
       "      <th>1431</th>\n",
       "      <td>chr21</td>\n",
       "      <td>536</td>\n",
       "      <td>G/G</td>\n",
       "      <td>0.0</td>\n",
       "    </tr>\n",
       "    <tr>\n",
       "      <th>1432</th>\n",
       "      <td>chr7</td>\n",
       "      <td>1166</td>\n",
       "      <td>C/G</td>\n",
       "      <td>0.0</td>\n",
       "    </tr>\n",
       "    <tr>\n",
       "      <th>1433</th>\n",
       "      <td>chr21</td>\n",
       "      <td>1733</td>\n",
       "      <td>A/C</td>\n",
       "      <td>0.0</td>\n",
       "    </tr>\n",
       "  </tbody>\n",
       "</table>\n",
       "<p>1434 rows × 4 columns</p>\n",
       "</div>"
      ],
      "text/plain": [
       "        chr   pos  mut  exists\n",
       "0     chr18  1597  G/A     0.0\n",
       "1      chr8  1204  T/C     1.0\n",
       "2      chr8  1712  C/G     1.0\n",
       "3     chr16  1685  A/G     0.0\n",
       "4     chr10   609  A/T     1.0\n",
       "...     ...   ...  ...     ...\n",
       "1429  chr17    62  C/T     0.0\n",
       "1430  chr21   784  C/A     0.0\n",
       "1431  chr21   536  G/G     0.0\n",
       "1432   chr7  1166  C/G     0.0\n",
       "1433  chr21  1733  A/C     0.0\n",
       "\n",
       "[1434 rows x 4 columns]"
      ]
     },
     "execution_count": 274,
     "metadata": {},
     "output_type": "execute_result"
    }
   ],
   "source": [
    "hist.merge(dfh[0], on=[\"chr\", \"pos\", \"mut\"], how=\"left\").fillna(0)"
   ]
  },
  {
   "cell_type": "markdown",
   "metadata": {},
   "source": [
    "Much better! So, let's encode them!"
   ]
  },
  {
   "cell_type": "code",
   "execution_count": 331,
   "metadata": {},
   "outputs": [],
   "source": [
    "def encode(hist: pd.DataFrame, df: pd.DataFrame):\n",
    "    return hist.merge(df, on=[\"chr\", \"pos\", \"mut\"], how=\"left\").fillna(0)[\"exists\"].to_numpy()"
   ]
  },
  {
   "cell_type": "code",
   "execution_count": 332,
   "metadata": {},
   "outputs": [],
   "source": [
    "dfh_encoded = [encode(hist,df) for df in dfh]\n",
    "dfs_encoded = [encode(hist,df) for df in dfs]"
   ]
  },
  {
   "cell_type": "markdown",
   "metadata": {},
   "source": [
    "Wonderful! We have collections of numpy arrays containing one-hot encoded vectors for each file. It is time to create lables for each of this vector. We detect Neurofibromatosis, so if someone is sick, then he or she should have label 1 and if not then 0."
   ]
  },
  {
   "cell_type": "code",
   "execution_count": 334,
   "metadata": {},
   "outputs": [],
   "source": [
    "dfh_labels = np.zeros(len(dfh_encoded))\n",
    "dfs_labels = np.ones(len(dfs_encoded))"
   ]
  },
  {
   "cell_type": "markdown",
   "metadata": {},
   "source": [
    "Great! Now, classifiers, which we will use wants to be provided two matrixies: one containing data (one-hot encoded vectors) and one containing labels. It means that, we have to transofrm list of one-hot encoded vectors into one big matrix. Let's go:"
   ]
  },
  {
   "cell_type": "markdown",
   "metadata": {},
   "source": [
    "We will want to concatenate these vectors by axis = 0, but first we have turn them from 1D vectors of shape 1434 to 2D vectors of shape (1, 1434), so numpy will be able to concat them by first axis:"
   ]
  },
  {
   "cell_type": "code",
   "execution_count": 335,
   "metadata": {},
   "outputs": [],
   "source": [
    "vectors = [*dfh_encoded, *dfs_encoded]\n",
    "vectors = [v.reshape(1,-1) for v in vectors]"
   ]
  },
  {
   "cell_type": "markdown",
   "metadata": {},
   "source": [
    "Time to concatenate them!"
   ]
  },
  {
   "cell_type": "code",
   "execution_count": 336,
   "metadata": {},
   "outputs": [
    {
     "data": {
      "text/plain": [
       "(102, 1434)"
      ]
     },
     "execution_count": 336,
     "metadata": {},
     "output_type": "execute_result"
    }
   ],
   "source": [
    "X = np.concatenate(vectors, axis=0)\n",
    "X.shape"
   ]
  },
  {
   "cell_type": "markdown",
   "metadata": {},
   "source": [
    "Outstanding! Now, concatenate labels:"
   ]
  },
  {
   "cell_type": "code",
   "execution_count": 337,
   "metadata": {},
   "outputs": [
    {
     "data": {
      "text/plain": [
       "(102,)"
      ]
     },
     "execution_count": 337,
     "metadata": {},
     "output_type": "execute_result"
    }
   ],
   "source": [
    "Y = np.concatenate([dfh_labels, dfs_labels], axis=0)\n",
    "Y.shape"
   ]
  },
  {
   "cell_type": "markdown",
   "metadata": {},
   "source": [
    "Almost done! There is only one more thing to do: shuffle them. Why? Right now there are 60 healthy people in the row and after that there are 42 sick people. It may cause classifier to overfit, so we want to shuffle them to prevent it."
   ]
  },
  {
   "cell_type": "code",
   "execution_count": 338,
   "metadata": {},
   "outputs": [],
   "source": [
    "indicies = np.arange(labels.shape[0])\n",
    "np.random.shuffle(indicies)\n",
    "X = X[indicies, :]\n",
    "Y = Y[indicies]"
   ]
  },
  {
   "cell_type": "markdown",
   "metadata": {},
   "source": [
    "Hooray! We have matricies encoded and shuffled! One last thing to do is to divide X, Y into train, validation and test datasets. Let's say: 60% of data for training, 20% for validation and 20% for testing. Let's go:"
   ]
  },
  {
   "cell_type": "code",
   "execution_count": 339,
   "metadata": {},
   "outputs": [],
   "source": [
    "train_stop = int(Y.shape[0] * 0.6)\n",
    "val_stop = train_stop + int(Y.shape[0] * 0.2)\n",
    "\n",
    "train_x = X[:train_stop, :]\n",
    "val_x = X[train_stop: val_stop, :]\n",
    "test_x = X[val_stop:, :]\n",
    "\n",
    "train_y = Y[:train_stop]\n",
    "val_y = Y[train_stop: val_stop]\n",
    "test_y = Y[val_stop]"
   ]
  },
  {
   "cell_type": "markdown",
   "metadata": {},
   "source": [
    "We did it! Data are ready to be filled into the classifiers. Let's go to the third step."
   ]
  },
  {
   "cell_type": "markdown",
   "metadata": {},
   "source": [
    "# 3. Neurofibromatosis detection\n",
    "\n",
    "We have performed *Exploratory Data Analysis* and encoded data based on its results. Now it is time to get down with the sickness (Ow-aaaaa!)"
   ]
  },
  {
   "cell_type": "markdown",
   "metadata": {},
   "source": [
    "Here is a list of classifiers, we will try to classify patients:\n",
    "\n",
    "- SVM (*Support Vector Machine*)\n",
    "- Random Forest\n",
    "- XGBoost\n",
    "\n",
    "We will train classifiers on training data and evaluate them on validation data. The best one will be then tested on test data as a final result of our studies. For evaluation we will use two commonly used metrics: accuracy and F1. Accuracy depicts how often model was right. F1 score on the other hand is harmonic average between precision and recall. Without diving any deeper in the subject let's just say, that F1 is good metric to determine if model does not favorize one class over another.\n",
    "\n",
    "Let's get started!"
   ]
  },
  {
   "cell_type": "code",
   "execution_count": 356,
   "metadata": {},
   "outputs": [],
   "source": [
    "def evaluate(model):\n",
    "    model.fit(train_x, train_y)\n",
    "    train_pred = model.predict(train_x)\n",
    "    \n",
    "    train_acc = accuracy_score(train_y, train_pred)\n",
    "    train_f1 = f1_score(train_y, train_pred, average=None)\n",
    "    \n",
    "    print(f\"Training: acc: {train_acc}, f1: {train_f1}\")\n",
    "    \n",
    "    val_pred = model.predict(val_x)\n",
    "    \n",
    "    val_acc = accuracy_score(val_y, val_pred)\n",
    "    val_f1 = f1_score(val_y, val_pred, average=None)\n",
    "    \n",
    "    print(f\"Validation: acc: {val_acc}, f1: {val_f1}\")"
   ]
  },
  {
   "cell_type": "code",
   "execution_count": 357,
   "metadata": {},
   "outputs": [
    {
     "name": "stdout",
     "output_type": "stream",
     "text": [
      "Training: acc: 1.0, f1: [1. 1.]\n",
      "Validation: acc: 0.65, f1: [0.78787879 0.        ]\n"
     ]
    }
   ],
   "source": [
    "# Using SVM\n",
    "\n",
    "evaluate(SVC())"
   ]
  },
  {
   "cell_type": "code",
   "execution_count": 358,
   "metadata": {},
   "outputs": [
    {
     "name": "stdout",
     "output_type": "stream",
     "text": [
      "Training: acc: 1.0, f1: [1. 1.]\n",
      "Validation: acc: 0.65, f1: [0.77419355 0.22222222]\n"
     ]
    }
   ],
   "source": [
    "# Using Random Forest\n",
    "\n",
    "evaluate(RandomForestClassifier())"
   ]
  },
  {
   "cell_type": "code",
   "execution_count": 375,
   "metadata": {},
   "outputs": [
    {
     "name": "stdout",
     "output_type": "stream",
     "text": [
      "Training: acc: 1.0, f1: [1. 1.]\n",
      "Validation: acc: 0.65, f1: [0.72       0.53333333]\n"
     ]
    }
   ],
   "source": [
    "# Using XGBoost\n",
    "\n",
    "evaluate(xgboost.XGBClassifier())"
   ]
  },
  {
   "cell_type": "markdown",
   "metadata": {},
   "source": [
    "Not good... Well, that is not suprising, to be honest. There are barely 60 samples of data. This is very, very small amount. Unfortunately, we won't get more, so let's try to accually do seomthing with it. Altghough every classifier got 65% accuracy, XGBoost scored the best f1 score on two classes combined, so we will take XGBoost for tuning and see, if we will be able to produce better results."
   ]
  },
  {
   "cell_type": "markdown",
   "metadata": {},
   "source": [
    "# 4. Automatic classifier tuning with Optuna library\n",
    "\n",
    "In this point we will try to fine-tune xgboost using Optuna library for automatic optimization. We will try to find better results, by modifying these parameters:\n",
    "\n",
    "- maximum tree depth\n",
    "- number of estimators\n",
    "- amount of rows to be seen by one tree\n",
    "- regularization lambda parameter\n",
    "- cut-off parameter\n",
    "\n",
    "Let's get started"
   ]
  },
  {
   "cell_type": "code",
   "execution_count": 386,
   "metadata": {},
   "outputs": [],
   "source": [
    "def _objective(trial) -> float:\n",
    "    max_depth = trial.suggest_int(\"max_depth\",low=3,high=12)\n",
    "    n_estimators = trial.suggest_int(\"n_estimators\",10,500)\n",
    "    reg_lambda = trial.suggest_loguniform(\"reg_labda\", 0.1, 10.0)\n",
    "    subsample = trial.suggest_uniform(\"subsample\", 0.1, 1.0)\n",
    "    p = trial.suggest_uniform(\"cut-off parameter\", 0.1, 0.9)\n",
    "    xgb = xgboost.XGBClassifier(max_depth = max_depth, n_estimators=n_estimators, \n",
    "                               reg_lambda=reg_lambda, subsample=subsample)\n",
    "    xgb = xgboost.XGBClassifier()\n",
    "    \n",
    "    xgb.fit(train_x, train_y)\n",
    "#     pred = xgb.predict_proba(val_x)\n",
    "#     pred = softmax(pred)[:,1]\n",
    "#     pred = pred > p\n",
    "#     pred = pred.astype(int)\n",
    "    \n",
    "    f1 = min(f1_score(val_y, xgb.predict(val_x), average=None))\n",
    "    return f1"
   ]
  },
  {
   "cell_type": "code",
   "execution_count": null,
   "metadata": {},
   "outputs": [],
   "source": [
    "os.remove(\"optuna.db\")\n",
    "study = optuna.create_study(study_name=\"xgboost for neurofibromatosis classification test\",\n",
    "                            storage=\"sqlite:///optuna.db\",\n",
    "                            load_if_exists=False)\n",
    "study.optimize(_objective, n_trials=1000)"
   ]
  },
  {
   "cell_type": "markdown",
   "metadata": {},
   "source": [
    "Well... nothing helps. Overfitting is too strong. So, if we are not able to get more data or fine-tune model, then we should try remove some of the featues"
   ]
  },
  {
   "cell_type": "markdown",
   "metadata": {},
   "source": [
    "# 5. Back to EDA\n",
    "\n",
    "Let's try taking less features in order to prevent such strong overfitting. To do it, we have to analyse healthy_sick_histogram."
   ]
  },
  {
   "cell_type": "code",
   "execution_count": 390,
   "metadata": {},
   "outputs": [
    {
     "data": {
      "text/html": [
       "<div>\n",
       "<style scoped>\n",
       "    .dataframe tbody tr th:only-of-type {\n",
       "        vertical-align: middle;\n",
       "    }\n",
       "\n",
       "    .dataframe tbody tr th {\n",
       "        vertical-align: top;\n",
       "    }\n",
       "\n",
       "    .dataframe thead th {\n",
       "        text-align: right;\n",
       "    }\n",
       "</style>\n",
       "<table border=\"1\" class=\"dataframe\">\n",
       "  <thead>\n",
       "    <tr style=\"text-align: right;\">\n",
       "      <th></th>\n",
       "      <th>Unnamed: 0</th>\n",
       "      <th>chr</th>\n",
       "      <th>pos</th>\n",
       "      <th>mut</th>\n",
       "      <th>healthy_freq</th>\n",
       "      <th>sick_freq</th>\n",
       "      <th>freq</th>\n",
       "    </tr>\n",
       "  </thead>\n",
       "  <tbody>\n",
       "    <tr>\n",
       "      <th>118</th>\n",
       "      <td>118</td>\n",
       "      <td>chr8</td>\n",
       "      <td>1204</td>\n",
       "      <td>T/C</td>\n",
       "      <td>30</td>\n",
       "      <td>26</td>\n",
       "      <td>56</td>\n",
       "    </tr>\n",
       "    <tr>\n",
       "      <th>575</th>\n",
       "      <td>575</td>\n",
       "      <td>chr20</td>\n",
       "      <td>1292</td>\n",
       "      <td>A/C</td>\n",
       "      <td>24</td>\n",
       "      <td>24</td>\n",
       "      <td>48</td>\n",
       "    </tr>\n",
       "    <tr>\n",
       "      <th>597</th>\n",
       "      <td>597</td>\n",
       "      <td>chr5</td>\n",
       "      <td>668</td>\n",
       "      <td>A/T</td>\n",
       "      <td>24</td>\n",
       "      <td>24</td>\n",
       "      <td>48</td>\n",
       "    </tr>\n",
       "    <tr>\n",
       "      <th>69</th>\n",
       "      <td>69</td>\n",
       "      <td>chr8</td>\n",
       "      <td>1712</td>\n",
       "      <td>C/G</td>\n",
       "      <td>31</td>\n",
       "      <td>24</td>\n",
       "      <td>55</td>\n",
       "    </tr>\n",
       "    <tr>\n",
       "      <th>947</th>\n",
       "      <td>947</td>\n",
       "      <td>chr2</td>\n",
       "      <td>1848</td>\n",
       "      <td>C/A</td>\n",
       "      <td>17</td>\n",
       "      <td>23</td>\n",
       "      <td>40</td>\n",
       "    </tr>\n",
       "    <tr>\n",
       "      <th>...</th>\n",
       "      <td>...</td>\n",
       "      <td>...</td>\n",
       "      <td>...</td>\n",
       "      <td>...</td>\n",
       "      <td>...</td>\n",
       "      <td>...</td>\n",
       "      <td>...</td>\n",
       "    </tr>\n",
       "    <tr>\n",
       "      <th>1106</th>\n",
       "      <td>1106</td>\n",
       "      <td>chrY</td>\n",
       "      <td>372</td>\n",
       "      <td>G/C</td>\n",
       "      <td>14</td>\n",
       "      <td>6</td>\n",
       "      <td>20</td>\n",
       "    </tr>\n",
       "    <tr>\n",
       "      <th>1360</th>\n",
       "      <td>1360</td>\n",
       "      <td>chr6</td>\n",
       "      <td>1446</td>\n",
       "      <td>C/A</td>\n",
       "      <td>7</td>\n",
       "      <td>6</td>\n",
       "      <td>13</td>\n",
       "    </tr>\n",
       "    <tr>\n",
       "      <th>1077</th>\n",
       "      <td>1077</td>\n",
       "      <td>chr6</td>\n",
       "      <td>1612</td>\n",
       "      <td>A/A</td>\n",
       "      <td>14</td>\n",
       "      <td>5</td>\n",
       "      <td>19</td>\n",
       "    </tr>\n",
       "    <tr>\n",
       "      <th>1416</th>\n",
       "      <td>1416</td>\n",
       "      <td>chr21</td>\n",
       "      <td>1733</td>\n",
       "      <td>A/C</td>\n",
       "      <td>4</td>\n",
       "      <td>5</td>\n",
       "      <td>9</td>\n",
       "    </tr>\n",
       "    <tr>\n",
       "      <th>542</th>\n",
       "      <td>542</td>\n",
       "      <td>chr12</td>\n",
       "      <td>508</td>\n",
       "      <td>T/G</td>\n",
       "      <td>24</td>\n",
       "      <td>5</td>\n",
       "      <td>29</td>\n",
       "    </tr>\n",
       "  </tbody>\n",
       "</table>\n",
       "<p>1434 rows × 7 columns</p>\n",
       "</div>"
      ],
      "text/plain": [
       "      Unnamed: 0    chr   pos  mut  healthy_freq  sick_freq  freq\n",
       "118          118   chr8  1204  T/C            30         26    56\n",
       "575          575  chr20  1292  A/C            24         24    48\n",
       "597          597   chr5   668  A/T            24         24    48\n",
       "69            69   chr8  1712  C/G            31         24    55\n",
       "947          947   chr2  1848  C/A            17         23    40\n",
       "...          ...    ...   ...  ...           ...        ...   ...\n",
       "1106        1106   chrY   372  G/C            14          6    20\n",
       "1360        1360   chr6  1446  C/A             7          6    13\n",
       "1077        1077   chr6  1612  A/A            14          5    19\n",
       "1416        1416  chr21  1733  A/C             4          5     9\n",
       "542          542  chr12   508  T/G            24          5    29\n",
       "\n",
       "[1434 rows x 7 columns]"
      ]
     },
     "execution_count": 390,
     "metadata": {},
     "output_type": "execute_result"
    }
   ],
   "source": [
    "hist = pd.read_csv(\"healthy_sick_histogram.csv\")\n",
    "hist.sort_values(\"sick_freq\", ascending=[0])"
   ]
  },
  {
   "cell_type": "markdown",
   "metadata": {},
   "source": [
    "Let's try adding column which depicts difference between sick and healthy"
   ]
  },
  {
   "cell_type": "code",
   "execution_count": 391,
   "metadata": {},
   "outputs": [],
   "source": [
    "hist[\"diff\"] = hist[\"sick_freq\"] / hist[\"healthy_freq\"]"
   ]
  },
  {
   "cell_type": "code",
   "execution_count": 392,
   "metadata": {},
   "outputs": [
    {
     "data": {
      "text/html": [
       "<div>\n",
       "<style scoped>\n",
       "    .dataframe tbody tr th:only-of-type {\n",
       "        vertical-align: middle;\n",
       "    }\n",
       "\n",
       "    .dataframe tbody tr th {\n",
       "        vertical-align: top;\n",
       "    }\n",
       "\n",
       "    .dataframe thead th {\n",
       "        text-align: right;\n",
       "    }\n",
       "</style>\n",
       "<table border=\"1\" class=\"dataframe\">\n",
       "  <thead>\n",
       "    <tr style=\"text-align: right;\">\n",
       "      <th></th>\n",
       "      <th>Unnamed: 0</th>\n",
       "      <th>chr</th>\n",
       "      <th>pos</th>\n",
       "      <th>mut</th>\n",
       "      <th>healthy_freq</th>\n",
       "      <th>sick_freq</th>\n",
       "      <th>freq</th>\n",
       "      <th>diff</th>\n",
       "    </tr>\n",
       "  </thead>\n",
       "  <tbody>\n",
       "    <tr>\n",
       "      <th>1433</th>\n",
       "      <td>1433</td>\n",
       "      <td>chr17</td>\n",
       "      <td>62</td>\n",
       "      <td>C/T</td>\n",
       "      <td>1</td>\n",
       "      <td>10</td>\n",
       "      <td>11</td>\n",
       "      <td>10.000000</td>\n",
       "    </tr>\n",
       "    <tr>\n",
       "      <th>1430</th>\n",
       "      <td>1430</td>\n",
       "      <td>chr1</td>\n",
       "      <td>570</td>\n",
       "      <td>A/T</td>\n",
       "      <td>3</td>\n",
       "      <td>14</td>\n",
       "      <td>17</td>\n",
       "      <td>4.666667</td>\n",
       "    </tr>\n",
       "    <tr>\n",
       "      <th>1432</th>\n",
       "      <td>1432</td>\n",
       "      <td>chr16</td>\n",
       "      <td>72</td>\n",
       "      <td>C/T</td>\n",
       "      <td>3</td>\n",
       "      <td>13</td>\n",
       "      <td>16</td>\n",
       "      <td>4.333333</td>\n",
       "    </tr>\n",
       "    <tr>\n",
       "      <th>1428</th>\n",
       "      <td>1428</td>\n",
       "      <td>chr14</td>\n",
       "      <td>341</td>\n",
       "      <td>T/G</td>\n",
       "      <td>3</td>\n",
       "      <td>13</td>\n",
       "      <td>16</td>\n",
       "      <td>4.333333</td>\n",
       "    </tr>\n",
       "    <tr>\n",
       "      <th>1427</th>\n",
       "      <td>1427</td>\n",
       "      <td>chr18</td>\n",
       "      <td>627</td>\n",
       "      <td>C/T</td>\n",
       "      <td>3</td>\n",
       "      <td>12</td>\n",
       "      <td>15</td>\n",
       "      <td>4.000000</td>\n",
       "    </tr>\n",
       "    <tr>\n",
       "      <th>...</th>\n",
       "      <td>...</td>\n",
       "      <td>...</td>\n",
       "      <td>...</td>\n",
       "      <td>...</td>\n",
       "      <td>...</td>\n",
       "      <td>...</td>\n",
       "      <td>...</td>\n",
       "      <td>...</td>\n",
       "    </tr>\n",
       "    <tr>\n",
       "      <th>255</th>\n",
       "      <td>255</td>\n",
       "      <td>chr5</td>\n",
       "      <td>1985</td>\n",
       "      <td>C/T</td>\n",
       "      <td>28</td>\n",
       "      <td>8</td>\n",
       "      <td>36</td>\n",
       "      <td>0.285714</td>\n",
       "    </tr>\n",
       "    <tr>\n",
       "      <th>28</th>\n",
       "      <td>28</td>\n",
       "      <td>chr15</td>\n",
       "      <td>1987</td>\n",
       "      <td>T/A</td>\n",
       "      <td>33</td>\n",
       "      <td>9</td>\n",
       "      <td>42</td>\n",
       "      <td>0.272727</td>\n",
       "    </tr>\n",
       "    <tr>\n",
       "      <th>512</th>\n",
       "      <td>512</td>\n",
       "      <td>chr9</td>\n",
       "      <td>1527</td>\n",
       "      <td>T/C</td>\n",
       "      <td>24</td>\n",
       "      <td>6</td>\n",
       "      <td>30</td>\n",
       "      <td>0.250000</td>\n",
       "    </tr>\n",
       "    <tr>\n",
       "      <th>131</th>\n",
       "      <td>131</td>\n",
       "      <td>chr1</td>\n",
       "      <td>1298</td>\n",
       "      <td>A/A</td>\n",
       "      <td>30</td>\n",
       "      <td>7</td>\n",
       "      <td>37</td>\n",
       "      <td>0.233333</td>\n",
       "    </tr>\n",
       "    <tr>\n",
       "      <th>542</th>\n",
       "      <td>542</td>\n",
       "      <td>chr12</td>\n",
       "      <td>508</td>\n",
       "      <td>T/G</td>\n",
       "      <td>24</td>\n",
       "      <td>5</td>\n",
       "      <td>29</td>\n",
       "      <td>0.208333</td>\n",
       "    </tr>\n",
       "  </tbody>\n",
       "</table>\n",
       "<p>1434 rows × 8 columns</p>\n",
       "</div>"
      ],
      "text/plain": [
       "      Unnamed: 0    chr   pos  mut  healthy_freq  sick_freq  freq       diff\n",
       "1433        1433  chr17    62  C/T             1         10    11  10.000000\n",
       "1430        1430   chr1   570  A/T             3         14    17   4.666667\n",
       "1432        1432  chr16    72  C/T             3         13    16   4.333333\n",
       "1428        1428  chr14   341  T/G             3         13    16   4.333333\n",
       "1427        1427  chr18   627  C/T             3         12    15   4.000000\n",
       "...          ...    ...   ...  ...           ...        ...   ...        ...\n",
       "255          255   chr5  1985  C/T            28          8    36   0.285714\n",
       "28            28  chr15  1987  T/A            33          9    42   0.272727\n",
       "512          512   chr9  1527  T/C            24          6    30   0.250000\n",
       "131          131   chr1  1298  A/A            30          7    37   0.233333\n",
       "542          542  chr12   508  T/G            24          5    29   0.208333\n",
       "\n",
       "[1434 rows x 8 columns]"
      ]
     },
     "execution_count": 392,
     "metadata": {},
     "output_type": "execute_result"
    }
   ],
   "source": [
    "hist.sort_values(\"diff\", ascending=[0])"
   ]
  },
  {
   "cell_type": "markdown",
   "metadata": {},
   "source": [
    "Ok then... how many are there genes, that are more than 2 times more likely in sick group instead of healthy ones?"
   ]
  },
  {
   "cell_type": "code",
   "execution_count": 393,
   "metadata": {},
   "outputs": [
    {
     "data": {
      "text/plain": [
       "(35, 8)"
      ]
     },
     "execution_count": 393,
     "metadata": {},
     "output_type": "execute_result"
    }
   ],
   "source": [
    "hist[hist[\"diff\"] > 2].shape"
   ]
  },
  {
   "cell_type": "markdown",
   "metadata": {},
   "source": [
    "How about 1.5?"
   ]
  },
  {
   "cell_type": "code",
   "execution_count": 394,
   "metadata": {},
   "outputs": [
    {
     "data": {
      "text/plain": [
       "(108, 8)"
      ]
     },
     "execution_count": 394,
     "metadata": {},
     "output_type": "execute_result"
    }
   ],
   "source": [
    "hist[hist[\"diff\"] > 1.5].shape"
   ]
  },
  {
   "cell_type": "markdown",
   "metadata": {},
   "source": [
    "Not bad. Let's try to use such hist to encode data"
   ]
  },
  {
   "cell_type": "code",
   "execution_count": 395,
   "metadata": {},
   "outputs": [],
   "source": [
    "hist = hist[hist[\"diff\"] > 1.5]"
   ]
  },
  {
   "cell_type": "code",
   "execution_count": 396,
   "metadata": {},
   "outputs": [],
   "source": [
    "dfh = load(\"healthy\")\n",
    "dfs = load(\"sick\")\n",
    "dfs = [df.rename(columns={\"CHROMOSOME\": \"chr\"}) for df in dfs]\n",
    "dfh = [df[[\"chr\", \"pos\", \"mut\"]] for df in dfh]\n",
    "dfs = [df[[\"chr\", \"pos\", \"mut\"]] for df in dfs]\n",
    "for df in [*dfh, *dfs]:\n",
    "    df[\"exists\"] = 1\n",
    "dfh_encoded = [encode(hist,df) for df in dfh]\n",
    "dfs_encoded = [encode(hist,df) for df in dfs]\n",
    "dfh_labels = np.zeros(len(dfh_encoded))\n",
    "dfs_labels = np.ones(len(dfs_encoded))\n",
    "vectors = [*dfh_encoded, *dfs_encoded]\n",
    "vectors = [v.reshape(1,-1) for v in vectors]\n",
    "X = np.concatenate(vectors, axis=0)\n",
    "Y = np.concatenate([dfh_labels, dfs_labels], axis=0)\n",
    "indicies = np.arange(labels.shape[0])\n",
    "np.random.shuffle(indicies)\n",
    "X = X[indicies, :]\n",
    "Y = Y[indicies]\n",
    "train_stop = int(Y.shape[0] * 0.6)\n",
    "val_stop = train_stop + int(Y.shape[0] * 0.2)\n",
    "\n",
    "train_x = X[:train_stop, :]\n",
    "val_x = X[train_stop: val_stop, :]\n",
    "test_x = X[val_stop:, :]\n",
    "\n",
    "train_y = Y[:train_stop]\n",
    "val_y = Y[train_stop: val_stop]\n",
    "test_y = Y[val_stop]"
   ]
  },
  {
   "cell_type": "code",
   "execution_count": 397,
   "metadata": {},
   "outputs": [
    {
     "name": "stdout",
     "output_type": "stream",
     "text": [
      "Training: acc: 1.0, f1: [1. 1.]\n",
      "Validation: acc: 1.0, f1: [1. 1.]\n"
     ]
    }
   ],
   "source": [
    "# Using SVM\n",
    "\n",
    "evaluate(SVC())"
   ]
  },
  {
   "cell_type": "markdown",
   "metadata": {},
   "source": [
    "Wow! The simplest of classifiers was able to have PERFECT performance. What with the rest of classifiers?"
   ]
  },
  {
   "cell_type": "code",
   "execution_count": 398,
   "metadata": {},
   "outputs": [
    {
     "name": "stdout",
     "output_type": "stream",
     "text": [
      "Training: acc: 1.0, f1: [1. 1.]\n",
      "Validation: acc: 0.8, f1: [0.85714286 0.66666667]\n"
     ]
    }
   ],
   "source": [
    "# Using Random Forest\n",
    "\n",
    "evaluate(RandomForestClassifier())"
   ]
  },
  {
   "cell_type": "code",
   "execution_count": 399,
   "metadata": {},
   "outputs": [
    {
     "name": "stdout",
     "output_type": "stream",
     "text": [
      "Training: acc: 1.0, f1: [1. 1.]\n",
      "Validation: acc: 0.7, f1: [0.8 0.4]\n"
     ]
    }
   ],
   "source": [
    "# Using XGBoost\n",
    "\n",
    "evaluate(xgboost.XGBClassifier())"
   ]
  },
  {
   "cell_type": "markdown",
   "metadata": {},
   "source": [
    "That's suprising to be honest, but only slightly. You see... there are three rules of thumb to consider, when we deal with overfitting:\n",
    "\n",
    "- increase number of data acquired\n",
    "- simplify the model\n",
    "- reduce amount of features\n",
    "\n",
    "In other words, make it harder for model to \"learn by heart\" training dataset. "
   ]
  },
  {
   "cell_type": "markdown",
   "metadata": {},
   "source": [
    "That's all for today. Have a nice day :)"
   ]
  },
  {
   "cell_type": "code",
   "execution_count": null,
   "metadata": {},
   "outputs": [],
   "source": []
  }
 ],
 "metadata": {
  "kernelspec": {
   "display_name": "Python 3",
   "language": "python",
   "name": "python3"
  },
  "language_info": {
   "codemirror_mode": {
    "name": "ipython",
    "version": 3
   },
   "file_extension": ".py",
   "mimetype": "text/x-python",
   "name": "python",
   "nbconvert_exporter": "python",
   "pygments_lexer": "ipython3",
   "version": "3.8.2"
  }
 },
 "nbformat": 4,
 "nbformat_minor": 4
}
